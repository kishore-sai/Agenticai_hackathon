{
 "cells": [
  {
   "cell_type": "code",
   "execution_count": 4,
   "id": "506dd5d7",
   "metadata": {},
   "outputs": [],
   "source": [
    "# import lance\n",
    "from langchain.vectorstores import LanceDB\n",
    "# from datachats_healthcare.agents.helpers import get_llm,get_embeddings\n",
    "import os\n",
    "import json\n",
    "import boto3\n",
    "import pandas as pd\n",
    "from langchain_aws import BedrockEmbeddings\n",
    "from langchain_aws import ChatBedrock\n",
    "from langchain_core.documents import Document\n",
    "\n",
    "from langchain.chains import RetrievalQA\n",
    "session = boto3.Session(profile_name='my-session-1')\n",
    "\n",
    "client = session.client('bedrock-runtime',region_name='ap-south-1',aws_access_key_id=session.get_credentials().access_key,\n",
    "    aws_secret_access_key=session.get_credentials().secret_key,\n",
    "    aws_session_token=session.get_credentials().token)\n"
   ]
  },
  {
   "cell_type": "code",
   "execution_count": 5,
   "id": "b0883ec2",
   "metadata": {},
   "outputs": [],
   "source": [
    "s3 = session.resource('s3')\n",
    "\n",
    "for bucket in s3.buckets.all():\n",
    "    pass\n",
    "    # print(bucket.name)"
   ]
  },
  {
   "cell_type": "code",
   "execution_count": null,
   "id": "f4c26a15",
   "metadata": {},
   "outputs": [],
   "source": [
    "embeddings = BedrockEmbeddings(\n",
    "    client=client,\n",
    "    model_id=\"amazon.titan-embed-text-v2:0\",\n",
    ")"
   ]
  },
  {
   "cell_type": "code",
   "execution_count": 115,
   "id": "abfa247f",
   "metadata": {},
   "outputs": [],
   "source": [
    "# embeddings.embed_query(\"Hello world\")"
   ]
  },
  {
   "cell_type": "code",
   "execution_count": 116,
   "id": "4f5a82ae",
   "metadata": {},
   "outputs": [],
   "source": [
    "\n",
    "def generate_column_docs(df):\n",
    "    \"\"\"\n",
    "    Converts a DataFrame into a list of dictionaries where each dict is a row with column headers as keys.\n",
    "\n",
    "    Args:\n",
    "        profile_report_df (pd.DataFrame): Input DataFrame.\n",
    "\n",
    "    Returns:\n",
    "        docs (List[str]): List of row values as joined strings.\n",
    "        doc_metadata (List[Dict]): List of row-wise dictionaries.\n",
    "    \"\"\"\n",
    "    docs = []\n",
    "    doc_metadata = []\n",
    "\n",
    "    for _, row in df.iterrows():\n",
    "        # only append table_name and roles_allowed to metadata\n",
    "        row_dict = row.to_dict()\n",
    "        # doc = list(row_dict.values())\n",
    "        docs.append(json.dumps(row_dict))\n",
    "        # Assuming the DataFrame has a 'table_name' and 'roles_allowed' column\n",
    "        metadata ={\"table_name\": row_dict.get(\"table_name\", \"\"),\n",
    "                   \"roles_allowed\": row_dict.get(\"roles_allowed\", \"\")}\n",
    "        doc_metadata.append(metadata)\n",
    "\n",
    "        # You can customize this to use selected fields only for the doc string\n",
    "        # doc_str = json.dumps(row_dict)\n",
    "        # docs.append(doc_str)\n",
    "\n",
    "    return docs, doc_metadata\n",
    "\n",
    "def populate_vector_store(metadata, table_name):\n",
    "    schema_docs, doc_metadata = generate_column_docs(\n",
    "        metadata\n",
    "    )\n",
    "    print(doc_metadata)\n",
    "    \n",
    "    vector_store = LanceDB(embedding=embeddings, table_name=table_name)\n",
    "    _ = vector_store.add_texts(texts=schema_docs,metadatas=doc_metadata)\n",
    "    return vector_store\n",
    "\n",
    "def init_vector_store(table_name):\n",
    "    vector_store = LanceDB(embedding=embeddings, table_name=table_name)\n",
    "    return vector_store"
   ]
  },
  {
   "cell_type": "code",
   "execution_count": null,
   "id": "4b678bbd",
   "metadata": {},
   "outputs": [],
   "source": []
  },
  {
   "cell_type": "code",
   "execution_count": 117,
   "id": "218e5a79",
   "metadata": {},
   "outputs": [],
   "source": [
    "def generate_table_docs(meta_df):\n",
    "    docs = []\n",
    "    doc_metadata = []\n",
    "    for _, row in meta_df.iterrows():\n",
    "        data = {\n",
    "            \"table\": row[\"table\"],\n",
    "            \"description\": row[\"table_description\"],\n",
    "        }\n",
    "        doc = list(data.values())\n",
    "        docs.append(\" \".join(doc))\n",
    "    return docs, doc_metadata\n",
    "\n",
    "def populate_vector_store(metadata,TABLE_NAME):\n",
    "    schema_docs, doc_metadata = generate_column_docs(metadata)\n",
    "    vector_store = LanceDB(embedding=embeddings, table_name=TABLE_NAME)\n",
    "\n",
    "    _ = vector_store.add_texts(texts=schema_docs, metadatas=doc_metadata)\n",
    "\n",
    "    return vector_store"
   ]
  },
  {
   "cell_type": "code",
   "execution_count": 118,
   "id": "94831840",
   "metadata": {},
   "outputs": [
    {
     "data": {
      "text/plain": [
       "<langchain_community.vectorstores.lancedb.LanceDB at 0x70ff35575bf0>"
      ]
     },
     "execution_count": 118,
     "metadata": {},
     "output_type": "execute_result"
    }
   ],
   "source": [
    "with open(\"non_clinical_metadata.json\", \"r\") as f:\n",
    "    non_clinical_metadata = json.load(f)\n",
    "metadata_df = pd.DataFrame(non_clinical_metadata)\n",
    "populate_vector_store(metadata_df, \"test_docs\")"
   ]
  },
  {
   "cell_type": "code",
   "execution_count": 119,
   "id": "4df0d8fe",
   "metadata": {},
   "outputs": [],
   "source": [
    "vector_store = init_vector_store(\"test_docs\")\n",
    "# Create a retriever with a filter query to only retrieve documents from the 'emergency_metrics' table\n",
    "\n",
    "retriever = vector_store.as_retriever()"
   ]
  },
  {
   "cell_type": "code",
   "execution_count": null,
   "id": "6d63f94d",
   "metadata": {},
   "outputs": [
    {
     "ename": "AttributeError",
     "evalue": "'pyarrow.lib.DataType' object has no attribute 'value_field'",
     "output_type": "error",
     "traceback": [
      "\u001b[31m---------------------------------------------------------------------------\u001b[39m",
      "\u001b[31mAttributeError\u001b[39m                            Traceback (most recent call last)",
      "\u001b[36mCell\u001b[39m\u001b[36m \u001b[39m\u001b[32mIn[120]\u001b[39m\u001b[32m, line 70\u001b[39m\n\u001b[32m     68\u001b[39m \u001b[38;5;66;03m# Populate LanceDB table\u001b[39;00m\n\u001b[32m     69\u001b[39m table_name = \u001b[33m\"\u001b[39m\u001b[33mtest_docs\u001b[39m\u001b[33m\"\u001b[39m\n\u001b[32m---> \u001b[39m\u001b[32m70\u001b[39m \u001b[43mpopulate_vector_store\u001b[49m\u001b[43m(\u001b[49m\u001b[43mmetadata_df\u001b[49m\u001b[43m,\u001b[49m\u001b[43m \u001b[49m\u001b[43mtable_name\u001b[49m\u001b[43m)\u001b[49m\n\u001b[32m     72\u001b[39m \u001b[38;5;66;03m# Query with filter\u001b[39;00m\n\u001b[32m     73\u001b[39m vector_store = init_vector_store(table_name)\n",
      "\u001b[36mCell\u001b[39m\u001b[36m \u001b[39m\u001b[32mIn[120]\u001b[39m\u001b[32m, line 51\u001b[39m, in \u001b[36mpopulate_vector_store\u001b[39m\u001b[34m(df, table_name)\u001b[39m\n\u001b[32m     49\u001b[39m \u001b[38;5;66;03m# Insert into LanceDB\u001b[39;00m\n\u001b[32m     50\u001b[39m vector_store = LanceDB(embedding=embeddings, table_name=table_name)\n\u001b[32m---> \u001b[39m\u001b[32m51\u001b[39m _ = \u001b[43mvector_store\u001b[49m\u001b[43m.\u001b[49m\u001b[43madd_texts\u001b[49m\u001b[43m(\u001b[49m\u001b[43mtexts\u001b[49m\u001b[43m=\u001b[49m\u001b[43mschema_docs\u001b[49m\u001b[43m,\u001b[49m\u001b[43m \u001b[49m\u001b[43mmetadatas\u001b[49m\u001b[43m=\u001b[49m\u001b[43mdoc_metadata\u001b[49m\u001b[43m)\u001b[49m\n\u001b[32m     53\u001b[39m \u001b[38;5;66;03m# Print schema to verify\u001b[39;00m\n\u001b[32m     54\u001b[39m \u001b[38;5;28mprint\u001b[39m(\u001b[33m\"\u001b[39m\u001b[33mSchema after insert:\u001b[39m\u001b[33m\"\u001b[39m, db.open_table(table_name).schema)\n",
      "\u001b[36mFile \u001b[39m\u001b[32m~/miniforge/envs/agent_test/lib/python3.13/site-packages/langchain_community/vectorstores/lancedb.py:224\u001b[39m, in \u001b[36mLanceDB.add_texts\u001b[39m\u001b[34m(self, texts, metadatas, ids, **kwargs)\u001b[39m\n\u001b[32m    222\u001b[39m \u001b[38;5;28;01melse\u001b[39;00m:\n\u001b[32m    223\u001b[39m     \u001b[38;5;28;01mif\u001b[39;00m \u001b[38;5;28mself\u001b[39m.api_key \u001b[38;5;129;01mis\u001b[39;00m \u001b[38;5;28;01mNone\u001b[39;00m:\n\u001b[32m--> \u001b[39m\u001b[32m224\u001b[39m         \u001b[43mtbl\u001b[49m\u001b[43m.\u001b[49m\u001b[43madd\u001b[49m\u001b[43m(\u001b[49m\u001b[43mdocs\u001b[49m\u001b[43m,\u001b[49m\u001b[43m \u001b[49m\u001b[43mmode\u001b[49m\u001b[43m=\u001b[49m\u001b[38;5;28;43mself\u001b[39;49m\u001b[43m.\u001b[49m\u001b[43mmode\u001b[49m\u001b[43m)\u001b[49m\n\u001b[32m    225\u001b[39m     \u001b[38;5;28;01melse\u001b[39;00m:\n\u001b[32m    226\u001b[39m         tbl.add(docs)\n",
      "\u001b[36mFile \u001b[39m\u001b[32m~/miniforge/envs/agent_test/lib/python3.13/site-packages/lancedb/table.py:2138\u001b[39m, in \u001b[36mLanceTable.add\u001b[39m\u001b[34m(self, data, mode, on_bad_vectors, fill_value)\u001b[39m\n\u001b[32m   2108\u001b[39m \u001b[38;5;28;01mdef\u001b[39;00m\u001b[38;5;250m \u001b[39m\u001b[34madd\u001b[39m(\n\u001b[32m   2109\u001b[39m     \u001b[38;5;28mself\u001b[39m,\n\u001b[32m   2110\u001b[39m     data: DATA,\n\u001b[32m   (...)\u001b[39m\u001b[32m   2113\u001b[39m     fill_value: \u001b[38;5;28mfloat\u001b[39m = \u001b[32m0.0\u001b[39m,\n\u001b[32m   2114\u001b[39m ) -> AddResult:\n\u001b[32m   2115\u001b[39m \u001b[38;5;250m    \u001b[39m\u001b[33;03m\"\"\"Add data to the table.\u001b[39;00m\n\u001b[32m   2116\u001b[39m \u001b[33;03m    If vector columns are missing and the table\u001b[39;00m\n\u001b[32m   2117\u001b[39m \u001b[33;03m    has embedding functions, then the vector columns\u001b[39;00m\n\u001b[32m   (...)\u001b[39m\u001b[32m   2136\u001b[39m \u001b[33;03m        The number of vectors in the table.\u001b[39;00m\n\u001b[32m   2137\u001b[39m \u001b[33;03m    \"\"\"\u001b[39;00m\n\u001b[32m-> \u001b[39m\u001b[32m2138\u001b[39m     \u001b[38;5;28;01mreturn\u001b[39;00m \u001b[43mLOOP\u001b[49m\u001b[43m.\u001b[49m\u001b[43mrun\u001b[49m\u001b[43m(\u001b[49m\n\u001b[32m   2139\u001b[39m \u001b[43m        \u001b[49m\u001b[38;5;28;43mself\u001b[39;49m\u001b[43m.\u001b[49m\u001b[43m_table\u001b[49m\u001b[43m.\u001b[49m\u001b[43madd\u001b[49m\u001b[43m(\u001b[49m\n\u001b[32m   2140\u001b[39m \u001b[43m            \u001b[49m\u001b[43mdata\u001b[49m\u001b[43m,\u001b[49m\u001b[43m \u001b[49m\u001b[43mmode\u001b[49m\u001b[43m=\u001b[49m\u001b[43mmode\u001b[49m\u001b[43m,\u001b[49m\u001b[43m \u001b[49m\u001b[43mon_bad_vectors\u001b[49m\u001b[43m=\u001b[49m\u001b[43mon_bad_vectors\u001b[49m\u001b[43m,\u001b[49m\u001b[43m \u001b[49m\u001b[43mfill_value\u001b[49m\u001b[43m=\u001b[49m\u001b[43mfill_value\u001b[49m\n\u001b[32m   2141\u001b[39m \u001b[43m        \u001b[49m\u001b[43m)\u001b[49m\n\u001b[32m   2142\u001b[39m \u001b[43m    \u001b[49m\u001b[43m)\u001b[49m\n",
      "\u001b[36mFile \u001b[39m\u001b[32m~/miniforge/envs/agent_test/lib/python3.13/site-packages/lancedb/background_loop.py:25\u001b[39m, in \u001b[36mBackgroundEventLoop.run\u001b[39m\u001b[34m(self, future)\u001b[39m\n\u001b[32m     24\u001b[39m \u001b[38;5;28;01mdef\u001b[39;00m\u001b[38;5;250m \u001b[39m\u001b[34mrun\u001b[39m(\u001b[38;5;28mself\u001b[39m, future):\n\u001b[32m---> \u001b[39m\u001b[32m25\u001b[39m     \u001b[38;5;28;01mreturn\u001b[39;00m \u001b[43masyncio\u001b[49m\u001b[43m.\u001b[49m\u001b[43mrun_coroutine_threadsafe\u001b[49m\u001b[43m(\u001b[49m\u001b[43mfuture\u001b[49m\u001b[43m,\u001b[49m\u001b[43m \u001b[49m\u001b[38;5;28;43mself\u001b[39;49m\u001b[43m.\u001b[49m\u001b[43mloop\u001b[49m\u001b[43m)\u001b[49m\u001b[43m.\u001b[49m\u001b[43mresult\u001b[49m\u001b[43m(\u001b[49m\u001b[43m)\u001b[49m\n",
      "\u001b[36mFile \u001b[39m\u001b[32m~/miniforge/envs/agent_test/lib/python3.13/concurrent/futures/_base.py:456\u001b[39m, in \u001b[36mFuture.result\u001b[39m\u001b[34m(self, timeout)\u001b[39m\n\u001b[32m    454\u001b[39m     \u001b[38;5;28;01mraise\u001b[39;00m CancelledError()\n\u001b[32m    455\u001b[39m \u001b[38;5;28;01melif\u001b[39;00m \u001b[38;5;28mself\u001b[39m._state == FINISHED:\n\u001b[32m--> \u001b[39m\u001b[32m456\u001b[39m     \u001b[38;5;28;01mreturn\u001b[39;00m \u001b[38;5;28;43mself\u001b[39;49m\u001b[43m.\u001b[49m\u001b[43m__get_result\u001b[49m\u001b[43m(\u001b[49m\u001b[43m)\u001b[49m\n\u001b[32m    457\u001b[39m \u001b[38;5;28;01melse\u001b[39;00m:\n\u001b[32m    458\u001b[39m     \u001b[38;5;28;01mraise\u001b[39;00m \u001b[38;5;167;01mTimeoutError\u001b[39;00m()\n",
      "\u001b[36mFile \u001b[39m\u001b[32m~/miniforge/envs/agent_test/lib/python3.13/concurrent/futures/_base.py:401\u001b[39m, in \u001b[36mFuture.__get_result\u001b[39m\u001b[34m(self)\u001b[39m\n\u001b[32m    399\u001b[39m \u001b[38;5;28;01mif\u001b[39;00m \u001b[38;5;28mself\u001b[39m._exception \u001b[38;5;129;01mis\u001b[39;00m \u001b[38;5;129;01mnot\u001b[39;00m \u001b[38;5;28;01mNone\u001b[39;00m:\n\u001b[32m    400\u001b[39m     \u001b[38;5;28;01mtry\u001b[39;00m:\n\u001b[32m--> \u001b[39m\u001b[32m401\u001b[39m         \u001b[38;5;28;01mraise\u001b[39;00m \u001b[38;5;28mself\u001b[39m._exception\n\u001b[32m    402\u001b[39m     \u001b[38;5;28;01mfinally\u001b[39;00m:\n\u001b[32m    403\u001b[39m         \u001b[38;5;66;03m# Break a reference cycle with the exception in self._exception\u001b[39;00m\n\u001b[32m    404\u001b[39m         \u001b[38;5;28mself\u001b[39m = \u001b[38;5;28;01mNone\u001b[39;00m\n",
      "\u001b[36mFile \u001b[39m\u001b[32m~/miniforge/envs/agent_test/lib/python3.13/site-packages/lancedb/table.py:3293\u001b[39m, in \u001b[36mAsyncTable.add\u001b[39m\u001b[34m(self, data, mode, on_bad_vectors, fill_value)\u001b[39m\n\u001b[32m   3291\u001b[39m \u001b[38;5;28;01mif\u001b[39;00m fill_value \u001b[38;5;129;01mis\u001b[39;00m \u001b[38;5;28;01mNone\u001b[39;00m:\n\u001b[32m   3292\u001b[39m     fill_value = \u001b[32m0.0\u001b[39m\n\u001b[32m-> \u001b[39m\u001b[32m3293\u001b[39m data = \u001b[43m_sanitize_data\u001b[49m\u001b[43m(\u001b[49m\n\u001b[32m   3294\u001b[39m \u001b[43m    \u001b[49m\u001b[43mdata\u001b[49m\u001b[43m,\u001b[49m\n\u001b[32m   3295\u001b[39m \u001b[43m    \u001b[49m\u001b[43mschema\u001b[49m\u001b[43m,\u001b[49m\n\u001b[32m   3296\u001b[39m \u001b[43m    \u001b[49m\u001b[43mmetadata\u001b[49m\u001b[43m=\u001b[49m\u001b[43mschema\u001b[49m\u001b[43m.\u001b[49m\u001b[43mmetadata\u001b[49m\u001b[43m,\u001b[49m\n\u001b[32m   3297\u001b[39m \u001b[43m    \u001b[49m\u001b[43mon_bad_vectors\u001b[49m\u001b[43m=\u001b[49m\u001b[43mon_bad_vectors\u001b[49m\u001b[43m,\u001b[49m\n\u001b[32m   3298\u001b[39m \u001b[43m    \u001b[49m\u001b[43mfill_value\u001b[49m\u001b[43m=\u001b[49m\u001b[43mfill_value\u001b[49m\u001b[43m,\u001b[49m\n\u001b[32m   3299\u001b[39m \u001b[43m    \u001b[49m\u001b[43mallow_subschema\u001b[49m\u001b[43m=\u001b[49m\u001b[38;5;28;43;01mTrue\u001b[39;49;00m\u001b[43m,\u001b[49m\n\u001b[32m   3300\u001b[39m \u001b[43m\u001b[49m\u001b[43m)\u001b[49m\n\u001b[32m   3301\u001b[39m \u001b[38;5;28;01mif\u001b[39;00m \u001b[38;5;28misinstance\u001b[39m(data, pa.Table):\n\u001b[32m   3302\u001b[39m     data = data.to_reader()\n",
      "\u001b[36mFile \u001b[39m\u001b[32m~/miniforge/envs/agent_test/lib/python3.13/site-packages/lancedb/table.py:260\u001b[39m, in \u001b[36m_sanitize_data\u001b[39m\u001b[34m(data, target_schema, metadata, on_bad_vectors, fill_value, allow_subschema)\u001b[39m\n\u001b[32m    257\u001b[39m     target_schema = target_schema.with_metadata(new_metadata)\n\u001b[32m    259\u001b[39m _validate_schema(target_schema)\n\u001b[32m--> \u001b[39m\u001b[32m260\u001b[39m reader = \u001b[43m_cast_to_target_schema\u001b[49m\u001b[43m(\u001b[49m\u001b[43mreader\u001b[49m\u001b[43m,\u001b[49m\u001b[43m \u001b[49m\u001b[43mtarget_schema\u001b[49m\u001b[43m,\u001b[49m\u001b[43m \u001b[49m\u001b[43mallow_subschema\u001b[49m\u001b[43m)\u001b[49m\n\u001b[32m    262\u001b[39m \u001b[38;5;28;01mreturn\u001b[39;00m reader\n",
      "\u001b[36mFile \u001b[39m\u001b[32m~/miniforge/envs/agent_test/lib/python3.13/site-packages/lancedb/table.py:277\u001b[39m, in \u001b[36m_cast_to_target_schema\u001b[39m\u001b[34m(reader, target_schema, allow_subschema)\u001b[39m\n\u001b[32m    273\u001b[39m \u001b[38;5;28;01mif\u001b[39;00m reader.schema == target_schema:\n\u001b[32m    274\u001b[39m     \u001b[38;5;66;03m# Fast path when the schemas are already the same\u001b[39;00m\n\u001b[32m    275\u001b[39m     \u001b[38;5;28;01mreturn\u001b[39;00m reader\n\u001b[32m--> \u001b[39m\u001b[32m277\u001b[39m fields = \u001b[43m_align_field_types\u001b[49m\u001b[43m(\u001b[49m\u001b[38;5;28;43mlist\u001b[39;49m\u001b[43m(\u001b[49m\u001b[38;5;28;43miter\u001b[39;49m\u001b[43m(\u001b[49m\u001b[43mreader\u001b[49m\u001b[43m.\u001b[49m\u001b[43mschema\u001b[49m\u001b[43m)\u001b[49m\u001b[43m)\u001b[49m\u001b[43m,\u001b[49m\u001b[43m \u001b[49m\u001b[38;5;28;43mlist\u001b[39;49m\u001b[43m(\u001b[49m\u001b[38;5;28;43miter\u001b[39;49m\u001b[43m(\u001b[49m\u001b[43mtarget_schema\u001b[49m\u001b[43m)\u001b[49m\u001b[43m)\u001b[49m\u001b[43m)\u001b[49m\n\u001b[32m    278\u001b[39m reordered_schema = pa.schema(fields, metadata=target_schema.metadata)\n\u001b[32m    279\u001b[39m \u001b[38;5;28;01mif\u001b[39;00m \u001b[38;5;129;01mnot\u001b[39;00m allow_subschema \u001b[38;5;129;01mand\u001b[39;00m \u001b[38;5;28mlen\u001b[39m(reordered_schema) != \u001b[38;5;28mlen\u001b[39m(target_schema):\n",
      "\u001b[36mFile \u001b[39m\u001b[32m~/miniforge/envs/agent_test/lib/python3.13/site-packages/lancedb/table.py:312\u001b[39m, in \u001b[36m_align_field_types\u001b[39m\u001b[34m(fields, target_fields)\u001b[39m\n\u001b[32m    309\u001b[39m     \u001b[38;5;28;01mraise\u001b[39;00m \u001b[38;5;167;01mValueError\u001b[39;00m(\u001b[33mf\u001b[39m\u001b[33m\"\u001b[39m\u001b[33mField \u001b[39m\u001b[33m'\u001b[39m\u001b[38;5;132;01m{\u001b[39;00mfield.name\u001b[38;5;132;01m}\u001b[39;00m\u001b[33m'\u001b[39m\u001b[33m not found in target schema\u001b[39m\u001b[33m\"\u001b[39m)\n\u001b[32m    310\u001b[39m \u001b[38;5;28;01mif\u001b[39;00m pa.types.is_struct(target_field.type):\n\u001b[32m    311\u001b[39m     new_type = pa.struct(\n\u001b[32m--> \u001b[39m\u001b[32m312\u001b[39m         \u001b[43m_align_field_types\u001b[49m\u001b[43m(\u001b[49m\n\u001b[32m    313\u001b[39m \u001b[43m            \u001b[49m\u001b[43mfield\u001b[49m\u001b[43m.\u001b[49m\u001b[43mtype\u001b[49m\u001b[43m.\u001b[49m\u001b[43mfields\u001b[49m\u001b[43m,\u001b[49m\n\u001b[32m    314\u001b[39m \u001b[43m            \u001b[49m\u001b[43mtarget_field\u001b[49m\u001b[43m.\u001b[49m\u001b[43mtype\u001b[49m\u001b[43m.\u001b[49m\u001b[43mfields\u001b[49m\u001b[43m,\u001b[49m\n\u001b[32m    315\u001b[39m \u001b[43m        \u001b[49m\u001b[43m)\u001b[49m\n\u001b[32m    316\u001b[39m     )\n\u001b[32m    317\u001b[39m \u001b[38;5;28;01melif\u001b[39;00m pa.types.is_list(target_field.type):\n\u001b[32m    318\u001b[39m     new_type = pa.list_(\n\u001b[32m    319\u001b[39m         _align_field_types(\n\u001b[32m    320\u001b[39m             [field.type.value_field],\n\u001b[32m    321\u001b[39m             [target_field.type.value_field],\n\u001b[32m    322\u001b[39m         )[\u001b[32m0\u001b[39m]\n\u001b[32m    323\u001b[39m     )\n",
      "\u001b[36mFile \u001b[39m\u001b[32m~/miniforge/envs/agent_test/lib/python3.13/site-packages/lancedb/table.py:320\u001b[39m, in \u001b[36m_align_field_types\u001b[39m\u001b[34m(fields, target_fields)\u001b[39m\n\u001b[32m    311\u001b[39m     new_type = pa.struct(\n\u001b[32m    312\u001b[39m         _align_field_types(\n\u001b[32m    313\u001b[39m             field.type.fields,\n\u001b[32m    314\u001b[39m             target_field.type.fields,\n\u001b[32m    315\u001b[39m         )\n\u001b[32m    316\u001b[39m     )\n\u001b[32m    317\u001b[39m \u001b[38;5;28;01melif\u001b[39;00m pa.types.is_list(target_field.type):\n\u001b[32m    318\u001b[39m     new_type = pa.list_(\n\u001b[32m    319\u001b[39m         _align_field_types(\n\u001b[32m--> \u001b[39m\u001b[32m320\u001b[39m             [\u001b[43mfield\u001b[49m\u001b[43m.\u001b[49m\u001b[43mtype\u001b[49m\u001b[43m.\u001b[49m\u001b[43mvalue_field\u001b[49m],\n\u001b[32m    321\u001b[39m             [target_field.type.value_field],\n\u001b[32m    322\u001b[39m         )[\u001b[32m0\u001b[39m]\n\u001b[32m    323\u001b[39m     )\n\u001b[32m    324\u001b[39m \u001b[38;5;28;01melif\u001b[39;00m pa.types.is_large_list(target_field.type):\n\u001b[32m    325\u001b[39m     new_type = pa.large_list(\n\u001b[32m    326\u001b[39m         _align_field_types(\n\u001b[32m    327\u001b[39m             [field.type.value_field],\n\u001b[32m    328\u001b[39m             [target_field.type.value_field],\n\u001b[32m    329\u001b[39m         )[\u001b[32m0\u001b[39m]\n\u001b[32m    330\u001b[39m     )\n",
      "\u001b[31mAttributeError\u001b[39m: 'pyarrow.lib.DataType' object has no attribute 'value_field'"
     ]
    }
   ],
   "source": [
    "import json\n",
    "import pandas as pd\n",
    "from langchain.vectorstores import LanceDB\n",
    "import lancedb\n",
    "\n",
    "# Initialize LanceDB connection\n",
    "db = lancedb.connect(\".\")  # Set your path here\n",
    "import math\n",
    "\n",
    "def safe_stringify(val):\n",
    "    if isinstance(val, (dict, list)):\n",
    "        return json.dumps(val)\n",
    "    elif val is None or (isinstance(val, float) and math.isnan(val)):\n",
    "        return \"\"\n",
    "    return str(val)\n",
    "\n",
    "def generate_column_docs(df):\n",
    "    docs = []\n",
    "    doc_metadata = []\n",
    "\n",
    "    for _, row in df.iterrows():\n",
    "        row_dict = row.to_dict()\n",
    "\n",
    "        # Full document as string\n",
    "        docs.append(json.dumps(row_dict))\n",
    "\n",
    "        # Convert each metadata field to safe string\n",
    "        metadata = {}\n",
    "        for key in [\"table_name\", \"roles_allowed\"]:\n",
    "            metadata[key] = safe_stringify(row_dict.get(key, \"\"))\n",
    "\n",
    "        doc_metadata.append(metadata)\n",
    "\n",
    "    return docs, doc_metadata\n",
    "\n",
    "\n",
    "def populate_vector_store(df, table_name):\n",
    "    \"\"\"\n",
    "    Populates a LanceDB vector store with documents and metadata.\n",
    "    \"\"\"\n",
    "    # Drop table if it already exists\n",
    "    if table_name in db.table_names():\n",
    "        print(f\"Table '{table_name}' already exists. Dropping it...\")\n",
    "        db.drop_table(table_name)\n",
    "\n",
    "    # Generate documents and metadata\n",
    "    schema_docs, doc_metadata = generate_column_docs(df)\n",
    "\n",
    "    # Insert into LanceDB\n",
    "    vector_store = LanceDB(embedding=embeddings, table_name=table_name)\n",
    "    _ = vector_store.add_texts(texts=schema_docs, metadatas=doc_metadata)\n",
    "\n",
    "    # Print schema to verify\n",
    "    print(\"Schema after insert:\", db.open_table(table_name).schema)\n",
    "\n",
    "    return vector_store\n",
    "\n",
    "def init_vector_store(table_name):\n",
    "    return LanceDB(embedding=embeddings, table_name=table_name)\n",
    "\n",
    "# Load JSON metadata\n",
    "with open(\"non_clinical_metadata.json\", \"r\") as f:\n",
    "    non_clinical_metadata = json.load(f)\n",
    "\n",
    "# Convert to DataFrame\n",
    "metadata_df = pd.DataFrame(non_clinical_metadata)\n",
    "\n",
    "# Populate LanceDB table\n",
    "table_name = \"test_docs\"\n",
    "populate_vector_store(metadata_df, table_name)\n",
    "\n",
    "# Query with filter\n",
    "vector_store = init_vector_store(table_name)\n",
    "results = vector_store.similarity_search(\n",
    "    query=\"I want to see how many surgeries are being cancelled each month.\",\n",
    "    k=5,\n",
    "    filter={\"table_name\": \"emergency_metrics\"}\n",
    ")\n",
    "\n",
    "# Print results\n",
    "print(\"Results:\")\n",
    "for res in results:\n",
    "    print(res)\n"
   ]
  },
  {
   "cell_type": "code",
   "execution_count": 64,
   "id": "297fed8c",
   "metadata": {},
   "outputs": [],
   "source": [
    "import lancedb\n",
    "import pandas as pd\n",
    "import json\n",
    "from langchain.embeddings import OpenAIEmbeddings\n",
    "\n",
    "# Init LanceDB and embeddings\n",
    "db = lancedb.connect(\".\")  # or your desired path\n",
    "embeddings = BedrockEmbeddings(\n",
    "    client=client,\n",
    "    model_id=\"amazon.titan-embed-text-v2:0\",\n",
    "   \n",
    ")\n",
    "\n",
    "def generate_column_docs(df):\n",
    "    docs = []\n",
    "    vectors = []\n",
    "\n",
    "    for _, row in df.iterrows():\n",
    "        row_dict = row.to_dict()\n",
    "\n",
    "        # Document string\n",
    "        doc_text = json.dumps(row_dict)\n",
    "        docs.append(doc_text)\n",
    "\n",
    "        # Embed\n",
    "        vector = embeddings.embed_query(doc_text)\n",
    "        vectors.append(vector)\n",
    "\n",
    "    # Flatten metadata and cast to string\n",
    "    def flatten_metadata(row):\n",
    "        meta = {}\n",
    "        for key in [\"table_name\", \"roles_allowed\"]:\n",
    "            val = row.get(key, \"\")\n",
    "            if isinstance(val, (dict, list)):\n",
    "                val = json.dumps(val)\n",
    "            elif pd.isna(val):\n",
    "                val = \"\"\n",
    "            meta[key] = str(val)\n",
    "        return meta\n",
    "\n",
    "    metadata = [flatten_metadata(row.to_dict()) for _, row in df.iterrows()]\n",
    "\n",
    "    return docs, vectors, metadata\n",
    "\n",
    "def populate_vector_store(df, table_name):\n",
    "    docs, vectors, metadata = generate_column_docs(df)\n",
    "\n",
    "    # Drop existing table\n",
    "    if table_name in db.table_names():\n",
    "        db.drop_table(table_name)\n",
    "\n",
    "    # Build rows to insert\n",
    "    data = []\n",
    "    for text, vec, meta in zip(docs, vectors, metadata):\n",
    "        row = {\n",
    "            \"vector\": vec,\n",
    "            \"text\": text,\n",
    "            **meta\n",
    "        }\n",
    "        data.append(row)\n",
    "\n",
    "    # Create table\n",
    "    table = db.create_table(table_name, data=data)\n",
    "\n",
    "    print(\"Schema after insert:\", table.schema)\n",
    "    return table\n"
   ]
  },
  {
   "cell_type": "code",
   "execution_count": 65,
   "id": "aa0c587d",
   "metadata": {},
   "outputs": [],
   "source": [
    "def search_vector_store(table_name, query, filter={}):\n",
    "    table = db.open_table(table_name)\n",
    "    query_vec = embeddings.embed_query(query)\n",
    "\n",
    "    results = table.search(query_vec).where(filter).limit(5).to_pandas()\n",
    "    print(\"Results:\\n\", results)\n",
    "    return results\n"
   ]
  },
  {
   "cell_type": "code",
   "execution_count": 69,
   "id": "d82d63bb",
   "metadata": {},
   "outputs": [
    {
     "ename": "AttributeError",
     "evalue": "'LanceTable' object has no attribute 'as_retriever'",
     "output_type": "error",
     "traceback": [
      "\u001b[31m---------------------------------------------------------------------------\u001b[39m",
      "\u001b[31mAttributeError\u001b[39m                            Traceback (most recent call last)",
      "\u001b[36mCell\u001b[39m\u001b[36m \u001b[39m\u001b[32mIn[69]\u001b[39m\u001b[32m, line 2\u001b[39m\n\u001b[32m      1\u001b[39m table = db.open_table(\u001b[33m\"\u001b[39m\u001b[33mtest_docs\u001b[39m\u001b[33m\"\u001b[39m)\n\u001b[32m----> \u001b[39m\u001b[32m2\u001b[39m vector_store = \u001b[43mtable\u001b[49m\u001b[43m.\u001b[49m\u001b[43mas_retriever\u001b[49m()\n",
      "\u001b[31mAttributeError\u001b[39m: 'LanceTable' object has no attribute 'as_retriever'"
     ]
    }
   ],
   "source": [
    "table = db.open_table(\"test_docs\")\n",
    "vector_store = table.as_retriever()"
   ]
  },
  {
   "cell_type": "code",
   "execution_count": 66,
   "id": "b97b5233",
   "metadata": {},
   "outputs": [
    {
     "name": "stdout",
     "output_type": "stream",
     "text": [
      "Schema after insert: vector: fixed_size_list<item: float>[1024]\n",
      "  child 0, item: float\n",
      "text: string\n",
      "table_name: string\n",
      "roles_allowed: string\n",
      "Results:\n",
      "                                               vector  \\\n",
      "0  [0.002238902, 0.053335276, -0.02925019, 0.0383...   \n",
      "1  [0.020663979, 0.055052597, -0.01290254, 0.0245...   \n",
      "2  [-0.049644522, 0.0062922365, -0.04282308, 0.03...   \n",
      "3  [-0.030998485, 0.014711706, -0.0042293733, -0....   \n",
      "4  [-0.027900143, 0.060031552, 3.0677693e-05, 0.0...   \n",
      "\n",
      "                                                text         table_name  \\\n",
      "0  {\"type\": \"Metric\", \"table_name\": \"emergency_me...  emergency_metrics   \n",
      "1  {\"type\": \"Metric\", \"table_name\": \"emergency_me...  emergency_metrics   \n",
      "2  {\"type\": \"Metric\", \"table_name\": \"emergency_me...  emergency_metrics   \n",
      "3  {\"type\": \"Metric\", \"table_name\": \"emergency_me...  emergency_metrics   \n",
      "4  {\"type\": \"Metric\", \"table_name\": \"emergency_me...  emergency_metrics   \n",
      "\n",
      "                       roles_allowed  _distance  \n",
      "0  [\"non_clinical_staff\", \"manager\"]   1.533314  \n",
      "1  [\"non_clinical_staff\", \"manager\"]   1.644900  \n",
      "2                        [\"manager\"]   1.685810  \n",
      "3                        [\"manager\"]   1.693370  \n",
      "4                        [\"manager\"]   1.719974  \n"
     ]
    },
    {
     "data": {
      "text/html": [
       "<div>\n",
       "<style scoped>\n",
       "    .dataframe tbody tr th:only-of-type {\n",
       "        vertical-align: middle;\n",
       "    }\n",
       "\n",
       "    .dataframe tbody tr th {\n",
       "        vertical-align: top;\n",
       "    }\n",
       "\n",
       "    .dataframe thead th {\n",
       "        text-align: right;\n",
       "    }\n",
       "</style>\n",
       "<table border=\"1\" class=\"dataframe\">\n",
       "  <thead>\n",
       "    <tr style=\"text-align: right;\">\n",
       "      <th></th>\n",
       "      <th>vector</th>\n",
       "      <th>text</th>\n",
       "      <th>table_name</th>\n",
       "      <th>roles_allowed</th>\n",
       "      <th>_distance</th>\n",
       "    </tr>\n",
       "  </thead>\n",
       "  <tbody>\n",
       "    <tr>\n",
       "      <th>0</th>\n",
       "      <td>[0.002238902, 0.053335276, -0.02925019, 0.0383...</td>\n",
       "      <td>{\"type\": \"Metric\", \"table_name\": \"emergency_me...</td>\n",
       "      <td>emergency_metrics</td>\n",
       "      <td>[\"non_clinical_staff\", \"manager\"]</td>\n",
       "      <td>1.533314</td>\n",
       "    </tr>\n",
       "    <tr>\n",
       "      <th>1</th>\n",
       "      <td>[0.020663979, 0.055052597, -0.01290254, 0.0245...</td>\n",
       "      <td>{\"type\": \"Metric\", \"table_name\": \"emergency_me...</td>\n",
       "      <td>emergency_metrics</td>\n",
       "      <td>[\"non_clinical_staff\", \"manager\"]</td>\n",
       "      <td>1.644900</td>\n",
       "    </tr>\n",
       "    <tr>\n",
       "      <th>2</th>\n",
       "      <td>[-0.049644522, 0.0062922365, -0.04282308, 0.03...</td>\n",
       "      <td>{\"type\": \"Metric\", \"table_name\": \"emergency_me...</td>\n",
       "      <td>emergency_metrics</td>\n",
       "      <td>[\"manager\"]</td>\n",
       "      <td>1.685810</td>\n",
       "    </tr>\n",
       "    <tr>\n",
       "      <th>3</th>\n",
       "      <td>[-0.030998485, 0.014711706, -0.0042293733, -0....</td>\n",
       "      <td>{\"type\": \"Metric\", \"table_name\": \"emergency_me...</td>\n",
       "      <td>emergency_metrics</td>\n",
       "      <td>[\"manager\"]</td>\n",
       "      <td>1.693370</td>\n",
       "    </tr>\n",
       "    <tr>\n",
       "      <th>4</th>\n",
       "      <td>[-0.027900143, 0.060031552, 3.0677693e-05, 0.0...</td>\n",
       "      <td>{\"type\": \"Metric\", \"table_name\": \"emergency_me...</td>\n",
       "      <td>emergency_metrics</td>\n",
       "      <td>[\"manager\"]</td>\n",
       "      <td>1.719974</td>\n",
       "    </tr>\n",
       "  </tbody>\n",
       "</table>\n",
       "</div>"
      ],
      "text/plain": [
       "                                              vector  \\\n",
       "0  [0.002238902, 0.053335276, -0.02925019, 0.0383...   \n",
       "1  [0.020663979, 0.055052597, -0.01290254, 0.0245...   \n",
       "2  [-0.049644522, 0.0062922365, -0.04282308, 0.03...   \n",
       "3  [-0.030998485, 0.014711706, -0.0042293733, -0....   \n",
       "4  [-0.027900143, 0.060031552, 3.0677693e-05, 0.0...   \n",
       "\n",
       "                                                text         table_name  \\\n",
       "0  {\"type\": \"Metric\", \"table_name\": \"emergency_me...  emergency_metrics   \n",
       "1  {\"type\": \"Metric\", \"table_name\": \"emergency_me...  emergency_metrics   \n",
       "2  {\"type\": \"Metric\", \"table_name\": \"emergency_me...  emergency_metrics   \n",
       "3  {\"type\": \"Metric\", \"table_name\": \"emergency_me...  emergency_metrics   \n",
       "4  {\"type\": \"Metric\", \"table_name\": \"emergency_me...  emergency_metrics   \n",
       "\n",
       "                       roles_allowed  _distance  \n",
       "0  [\"non_clinical_staff\", \"manager\"]   1.533314  \n",
       "1  [\"non_clinical_staff\", \"manager\"]   1.644900  \n",
       "2                        [\"manager\"]   1.685810  \n",
       "3                        [\"manager\"]   1.693370  \n",
       "4                        [\"manager\"]   1.719974  "
      ]
     },
     "execution_count": 66,
     "metadata": {},
     "output_type": "execute_result"
    }
   ],
   "source": [
    "# Load metadata from file\n",
    "with open(\"non_clinical_metadata.json\", \"r\") as f:\n",
    "    metadata_json = json.load(f)\n",
    "\n",
    "df = pd.DataFrame(metadata_json)\n",
    "\n",
    "# Populate LanceDB\n",
    "table_name = \"test_docs\"\n",
    "populate_vector_store(df, table_name)\n",
    "\n",
    "# Run search\n",
    "search_vector_store(\n",
    "    table_name,\n",
    "    \"I want to see how many surgeries are being cancelled each month.\",\n",
    "    filter=\"table_name = 'emergency_metrics'\"\n",
    ")\n"
   ]
  },
  {
   "cell_type": "code",
   "execution_count": 52,
   "id": "6f3282c2",
   "metadata": {},
   "outputs": [
    {
     "ename": "RuntimeError",
     "evalue": "lance error: LanceError(Schema): Schema error: No field named table_name. Valid fields are vector, id, text, metadata, _distance., /root/.cargo/registry/src/index.crates.io-1949cf8c6b5b557f/lance-datafusion-0.29.0/src/planner.rs:843:20",
     "output_type": "error",
     "traceback": [
      "\u001b[31m---------------------------------------------------------------------------\u001b[39m",
      "\u001b[31mRuntimeError\u001b[39m                              Traceback (most recent call last)",
      "\u001b[36mCell\u001b[39m\u001b[36m \u001b[39m\u001b[32mIn[52]\u001b[39m\u001b[32m, line 1\u001b[39m\n\u001b[32m----> \u001b[39m\u001b[32m1\u001b[39m results = \u001b[43mvector_store\u001b[49m\u001b[43m.\u001b[49m\u001b[43msimilarity_search\u001b[49m\u001b[43m(\u001b[49m\u001b[33;43m\"\u001b[39;49m\u001b[33;43mI want to see how many surgeries are being cancelled each month.\u001b[39;49m\u001b[33;43m\"\u001b[39;49m\u001b[43m,\u001b[49m\u001b[38;5;28;43mfilter\u001b[39;49m\u001b[43m=\u001b[49m\u001b[43m{\u001b[49m\u001b[33;43m\"\u001b[39;49m\u001b[33;43mtable_name\u001b[39;49m\u001b[33;43m\"\u001b[39;49m\u001b[43m:\u001b[49m\u001b[33;43m\"\u001b[39;49m\u001b[33;43memergency_metrics\u001b[39;49m\u001b[33;43m\"\u001b[39;49m\u001b[43m}\u001b[49m\u001b[43m)\u001b[49m\n\u001b[32m      2\u001b[39m \u001b[38;5;28mprint\u001b[39m(\u001b[33m\"\u001b[39m\u001b[33mResults:\u001b[39m\u001b[33m\"\u001b[39m, results)\n",
      "\u001b[36mFile \u001b[39m\u001b[32m~/miniconda3/envs/genai_env/lib/python3.11/site-packages/langchain_community/vectorstores/lancedb.py:530\u001b[39m, in \u001b[36mLanceDB.similarity_search\u001b[39m\u001b[34m(self, query, k, name, filter, fts, **kwargs)\u001b[39m\n\u001b[32m    506\u001b[39m \u001b[38;5;28;01mdef\u001b[39;00m\u001b[38;5;250m \u001b[39m\u001b[34msimilarity_search\u001b[39m(\n\u001b[32m    507\u001b[39m     \u001b[38;5;28mself\u001b[39m,\n\u001b[32m    508\u001b[39m     query: \u001b[38;5;28mstr\u001b[39m,\n\u001b[32m   (...)\u001b[39m\u001b[32m    513\u001b[39m     **kwargs: Any,\n\u001b[32m    514\u001b[39m ) -> List[Document]:\n\u001b[32m    515\u001b[39m \u001b[38;5;250m    \u001b[39m\u001b[33;03m\"\"\"Return documents most similar to the query\u001b[39;00m\n\u001b[32m    516\u001b[39m \n\u001b[32m    517\u001b[39m \u001b[33;03m    Args:\u001b[39;00m\n\u001b[32m   (...)\u001b[39m\u001b[32m    528\u001b[39m \u001b[33;03m        List of documents most similar to the query.\u001b[39;00m\n\u001b[32m    529\u001b[39m \u001b[33;03m    \"\"\"\u001b[39;00m\n\u001b[32m--> \u001b[39m\u001b[32m530\u001b[39m     res = \u001b[38;5;28;43mself\u001b[39;49m\u001b[43m.\u001b[49m\u001b[43msimilarity_search_with_score\u001b[49m\u001b[43m(\u001b[49m\n\u001b[32m    531\u001b[39m \u001b[43m        \u001b[49m\u001b[43mquery\u001b[49m\u001b[43m=\u001b[49m\u001b[43mquery\u001b[49m\u001b[43m,\u001b[49m\u001b[43m \u001b[49m\u001b[43mk\u001b[49m\u001b[43m=\u001b[49m\u001b[43mk\u001b[49m\u001b[43m,\u001b[49m\u001b[43m \u001b[49m\u001b[43mname\u001b[49m\u001b[43m=\u001b[49m\u001b[43mname\u001b[49m\u001b[43m,\u001b[49m\u001b[43m \u001b[49m\u001b[38;5;28;43mfilter\u001b[39;49m\u001b[43m=\u001b[49m\u001b[38;5;28;43mfilter\u001b[39;49m\u001b[43m,\u001b[49m\u001b[43m \u001b[49m\u001b[43mfts\u001b[49m\u001b[43m=\u001b[49m\u001b[43mfts\u001b[49m\u001b[43m,\u001b[49m\u001b[43m \u001b[49m\u001b[43mscore\u001b[49m\u001b[43m=\u001b[49m\u001b[38;5;28;43;01mFalse\u001b[39;49;00m\u001b[43m,\u001b[49m\u001b[43m \u001b[49m\u001b[43m*\u001b[49m\u001b[43m*\u001b[49m\u001b[43mkwargs\u001b[49m\n\u001b[32m    532\u001b[39m \u001b[43m    \u001b[49m\u001b[43m)\u001b[49m\n\u001b[32m    533\u001b[39m     \u001b[38;5;28;01mreturn\u001b[39;00m res\n",
      "\u001b[36mFile \u001b[39m\u001b[32m~/miniconda3/envs/genai_env/lib/python3.11/site-packages/langchain_community/vectorstores/lancedb.py:503\u001b[39m, in \u001b[36mLanceDB.similarity_search_with_score\u001b[39m\u001b[34m(self, query, k, filter, **kwargs)\u001b[39m\n\u001b[32m    501\u001b[39m \u001b[38;5;28;01melse\u001b[39;00m:\n\u001b[32m    502\u001b[39m     embedding = \u001b[38;5;28mself\u001b[39m._embedding.embed_query(query)\n\u001b[32m--> \u001b[39m\u001b[32m503\u001b[39m     res = \u001b[38;5;28;43mself\u001b[39;49m\u001b[43m.\u001b[49m\u001b[43m_query\u001b[49m\u001b[43m(\u001b[49m\u001b[43membedding\u001b[49m\u001b[43m,\u001b[49m\u001b[43m \u001b[49m\u001b[43mk\u001b[49m\u001b[43m,\u001b[49m\u001b[43m \u001b[49m\u001b[38;5;28;43mfilter\u001b[39;49m\u001b[43m=\u001b[49m\u001b[38;5;28;43mfilter\u001b[39;49m\u001b[43m,\u001b[49m\u001b[43m \u001b[49m\u001b[43m*\u001b[49m\u001b[43m*\u001b[49m\u001b[43mkwargs\u001b[49m\u001b[43m)\u001b[49m\n\u001b[32m    504\u001b[39m     \u001b[38;5;28;01mreturn\u001b[39;00m \u001b[38;5;28mself\u001b[39m.results_to_docs(res, score=score)\n",
      "\u001b[36mFile \u001b[39m\u001b[32m~/miniconda3/envs/genai_env/lib/python3.11/site-packages/langchain_community/vectorstores/lancedb.py:397\u001b[39m, in \u001b[36mLanceDB._query\u001b[39m\u001b[34m(self, query, k, filter, name, **kwargs)\u001b[39m\n\u001b[32m    394\u001b[39m \u001b[38;5;28;01mif\u001b[39;00m query_type == \u001b[33m\"\u001b[39m\u001b[33mhybrid\u001b[39m\u001b[33m\"\u001b[39m \u001b[38;5;129;01mand\u001b[39;00m \u001b[38;5;28mself\u001b[39m._reranker \u001b[38;5;129;01mis\u001b[39;00m \u001b[38;5;129;01mnot\u001b[39;00m \u001b[38;5;28;01mNone\u001b[39;00m:\n\u001b[32m    395\u001b[39m     lance_query.rerank(reranker=\u001b[38;5;28mself\u001b[39m._reranker)\n\u001b[32m--> \u001b[39m\u001b[32m397\u001b[39m docs = \u001b[43mlance_query\u001b[49m\u001b[43m.\u001b[49m\u001b[43mto_arrow\u001b[49m\u001b[43m(\u001b[49m\u001b[43m)\u001b[49m\n\u001b[32m    398\u001b[39m \u001b[38;5;28;01mif\u001b[39;00m \u001b[38;5;28mlen\u001b[39m(docs) == \u001b[32m0\u001b[39m:\n\u001b[32m    399\u001b[39m     warnings.warn(\u001b[33m\"\u001b[39m\u001b[33mNo results found for the query.\u001b[39m\u001b[33m\"\u001b[39m)\n",
      "\u001b[36mFile \u001b[39m\u001b[32m~/miniconda3/envs/genai_env/lib/python3.11/site-packages/lancedb/query.py:1209\u001b[39m, in \u001b[36mLanceVectorQueryBuilder.to_arrow\u001b[39m\u001b[34m(self, timeout)\u001b[39m\n\u001b[32m   1194\u001b[39m \u001b[38;5;28;01mdef\u001b[39;00m\u001b[38;5;250m \u001b[39m\u001b[34mto_arrow\u001b[39m(\u001b[38;5;28mself\u001b[39m, *, timeout: Optional[timedelta] = \u001b[38;5;28;01mNone\u001b[39;00m) -> pa.Table:\n\u001b[32m   1195\u001b[39m \u001b[38;5;250m    \u001b[39m\u001b[33;03m\"\"\"\u001b[39;00m\n\u001b[32m   1196\u001b[39m \u001b[33;03m    Execute the query and return the results as an\u001b[39;00m\n\u001b[32m   1197\u001b[39m \u001b[33;03m    [Apache Arrow Table](https://arrow.apache.org/docs/python/generated/pyarrow.Table.html#pyarrow.Table).\u001b[39;00m\n\u001b[32m   (...)\u001b[39m\u001b[32m   1207\u001b[39m \u001b[33;03m        If None, wait indefinitely.\u001b[39;00m\n\u001b[32m   1208\u001b[39m \u001b[33;03m    \"\"\"\u001b[39;00m\n\u001b[32m-> \u001b[39m\u001b[32m1209\u001b[39m     \u001b[38;5;28;01mreturn\u001b[39;00m \u001b[38;5;28;43mself\u001b[39;49m\u001b[43m.\u001b[49m\u001b[43mto_batches\u001b[49m\u001b[43m(\u001b[49m\u001b[43mtimeout\u001b[49m\u001b[43m=\u001b[49m\u001b[43mtimeout\u001b[49m\u001b[43m)\u001b[49m.read_all()\n",
      "\u001b[36mFile \u001b[39m\u001b[32m~/miniconda3/envs/genai_env/lib/python3.11/site-packages/lancedb/query.py:1265\u001b[39m, in \u001b[36mLanceVectorQueryBuilder.to_batches\u001b[39m\u001b[34m(self, batch_size, timeout)\u001b[39m\n\u001b[32m   1263\u001b[39m     vector = [v.tolist() \u001b[38;5;28;01mfor\u001b[39;00m v \u001b[38;5;129;01min\u001b[39;00m vector]\n\u001b[32m   1264\u001b[39m query = \u001b[38;5;28mself\u001b[39m.to_query_object()\n\u001b[32m-> \u001b[39m\u001b[32m1265\u001b[39m result_set = \u001b[38;5;28;43mself\u001b[39;49m\u001b[43m.\u001b[49m\u001b[43m_table\u001b[49m\u001b[43m.\u001b[49m\u001b[43m_execute_query\u001b[49m\u001b[43m(\u001b[49m\n\u001b[32m   1266\u001b[39m \u001b[43m    \u001b[49m\u001b[43mquery\u001b[49m\u001b[43m,\u001b[49m\u001b[43m \u001b[49m\u001b[43mbatch_size\u001b[49m\u001b[43m=\u001b[49m\u001b[43mbatch_size\u001b[49m\u001b[43m,\u001b[49m\u001b[43m \u001b[49m\u001b[43mtimeout\u001b[49m\u001b[43m=\u001b[49m\u001b[43mtimeout\u001b[49m\n\u001b[32m   1267\u001b[39m \u001b[43m\u001b[49m\u001b[43m)\u001b[49m\n\u001b[32m   1268\u001b[39m \u001b[38;5;28;01mif\u001b[39;00m \u001b[38;5;28mself\u001b[39m._reranker \u001b[38;5;129;01mis\u001b[39;00m \u001b[38;5;129;01mnot\u001b[39;00m \u001b[38;5;28;01mNone\u001b[39;00m:\n\u001b[32m   1269\u001b[39m     rs_table = result_set.read_all()\n",
      "\u001b[36mFile \u001b[39m\u001b[32m~/miniconda3/envs/genai_env/lib/python3.11/site-packages/lancedb/table.py:2531\u001b[39m, in \u001b[36mLanceTable._execute_query\u001b[39m\u001b[34m(self, query, batch_size, timeout)\u001b[39m\n\u001b[32m   2524\u001b[39m \u001b[38;5;28;01mdef\u001b[39;00m\u001b[38;5;250m \u001b[39m\u001b[34m_execute_query\u001b[39m(\n\u001b[32m   2525\u001b[39m     \u001b[38;5;28mself\u001b[39m,\n\u001b[32m   2526\u001b[39m     query: Query,\n\u001b[32m   (...)\u001b[39m\u001b[32m   2529\u001b[39m     timeout: Optional[timedelta] = \u001b[38;5;28;01mNone\u001b[39;00m,\n\u001b[32m   2530\u001b[39m ) -> pa.RecordBatchReader:\n\u001b[32m-> \u001b[39m\u001b[32m2531\u001b[39m     async_iter = \u001b[43mLOOP\u001b[49m\u001b[43m.\u001b[49m\u001b[43mrun\u001b[49m\u001b[43m(\u001b[49m\n\u001b[32m   2532\u001b[39m \u001b[43m        \u001b[49m\u001b[38;5;28;43mself\u001b[39;49m\u001b[43m.\u001b[49m\u001b[43m_table\u001b[49m\u001b[43m.\u001b[49m\u001b[43m_execute_query\u001b[49m\u001b[43m(\u001b[49m\u001b[43mquery\u001b[49m\u001b[43m,\u001b[49m\u001b[43m \u001b[49m\u001b[43mbatch_size\u001b[49m\u001b[43m=\u001b[49m\u001b[43mbatch_size\u001b[49m\u001b[43m,\u001b[49m\u001b[43m \u001b[49m\u001b[43mtimeout\u001b[49m\u001b[43m=\u001b[49m\u001b[43mtimeout\u001b[49m\u001b[43m)\u001b[49m\n\u001b[32m   2533\u001b[39m \u001b[43m    \u001b[49m\u001b[43m)\u001b[49m\n\u001b[32m   2535\u001b[39m     \u001b[38;5;28;01mdef\u001b[39;00m\u001b[38;5;250m \u001b[39m\u001b[34miter_sync\u001b[39m():\n\u001b[32m   2536\u001b[39m         \u001b[38;5;28;01mtry\u001b[39;00m:\n",
      "\u001b[36mFile \u001b[39m\u001b[32m~/miniconda3/envs/genai_env/lib/python3.11/site-packages/lancedb/background_loop.py:25\u001b[39m, in \u001b[36mBackgroundEventLoop.run\u001b[39m\u001b[34m(self, future)\u001b[39m\n\u001b[32m     24\u001b[39m \u001b[38;5;28;01mdef\u001b[39;00m\u001b[38;5;250m \u001b[39m\u001b[34mrun\u001b[39m(\u001b[38;5;28mself\u001b[39m, future):\n\u001b[32m---> \u001b[39m\u001b[32m25\u001b[39m     \u001b[38;5;28;01mreturn\u001b[39;00m \u001b[43masyncio\u001b[49m\u001b[43m.\u001b[49m\u001b[43mrun_coroutine_threadsafe\u001b[49m\u001b[43m(\u001b[49m\u001b[43mfuture\u001b[49m\u001b[43m,\u001b[49m\u001b[43m \u001b[49m\u001b[38;5;28;43mself\u001b[39;49m\u001b[43m.\u001b[49m\u001b[43mloop\u001b[49m\u001b[43m)\u001b[49m\u001b[43m.\u001b[49m\u001b[43mresult\u001b[49m\u001b[43m(\u001b[49m\u001b[43m)\u001b[49m\n",
      "\u001b[36mFile \u001b[39m\u001b[32m~/miniconda3/envs/genai_env/lib/python3.11/concurrent/futures/_base.py:456\u001b[39m, in \u001b[36mFuture.result\u001b[39m\u001b[34m(self, timeout)\u001b[39m\n\u001b[32m    454\u001b[39m     \u001b[38;5;28;01mraise\u001b[39;00m CancelledError()\n\u001b[32m    455\u001b[39m \u001b[38;5;28;01melif\u001b[39;00m \u001b[38;5;28mself\u001b[39m._state == FINISHED:\n\u001b[32m--> \u001b[39m\u001b[32m456\u001b[39m     \u001b[38;5;28;01mreturn\u001b[39;00m \u001b[38;5;28;43mself\u001b[39;49m\u001b[43m.\u001b[49m\u001b[43m__get_result\u001b[49m\u001b[43m(\u001b[49m\u001b[43m)\u001b[49m\n\u001b[32m    457\u001b[39m \u001b[38;5;28;01melse\u001b[39;00m:\n\u001b[32m    458\u001b[39m     \u001b[38;5;28;01mraise\u001b[39;00m \u001b[38;5;167;01mTimeoutError\u001b[39;00m()\n",
      "\u001b[36mFile \u001b[39m\u001b[32m~/miniconda3/envs/genai_env/lib/python3.11/concurrent/futures/_base.py:401\u001b[39m, in \u001b[36mFuture.__get_result\u001b[39m\u001b[34m(self)\u001b[39m\n\u001b[32m    399\u001b[39m \u001b[38;5;28;01mif\u001b[39;00m \u001b[38;5;28mself\u001b[39m._exception:\n\u001b[32m    400\u001b[39m     \u001b[38;5;28;01mtry\u001b[39;00m:\n\u001b[32m--> \u001b[39m\u001b[32m401\u001b[39m         \u001b[38;5;28;01mraise\u001b[39;00m \u001b[38;5;28mself\u001b[39m._exception\n\u001b[32m    402\u001b[39m     \u001b[38;5;28;01mfinally\u001b[39;00m:\n\u001b[32m    403\u001b[39m         \u001b[38;5;66;03m# Break a reference cycle with the exception in self._exception\u001b[39;00m\n\u001b[32m    404\u001b[39m         \u001b[38;5;28mself\u001b[39m = \u001b[38;5;28;01mNone\u001b[39;00m\n",
      "\u001b[36mFile \u001b[39m\u001b[32m~/miniconda3/envs/genai_env/lib/python3.11/site-packages/lancedb/table.py:3674\u001b[39m, in \u001b[36mAsyncTable._execute_query\u001b[39m\u001b[34m(self, query, batch_size, timeout)\u001b[39m\n\u001b[32m   3661\u001b[39m \u001b[38;5;28;01masync\u001b[39;00m \u001b[38;5;28;01mdef\u001b[39;00m\u001b[38;5;250m \u001b[39m\u001b[34m_execute_query\u001b[39m(\n\u001b[32m   3662\u001b[39m     \u001b[38;5;28mself\u001b[39m,\n\u001b[32m   3663\u001b[39m     query: Query,\n\u001b[32m   (...)\u001b[39m\u001b[32m   3669\u001b[39m     \u001b[38;5;66;03m# query to the async version of the query and run that here. This is only\u001b[39;00m\n\u001b[32m   3670\u001b[39m     \u001b[38;5;66;03m# used for that code path right now.\u001b[39;00m\n\u001b[32m   3672\u001b[39m     async_query = \u001b[38;5;28mself\u001b[39m._sync_query_to_async(query)\n\u001b[32m-> \u001b[39m\u001b[32m3674\u001b[39m     \u001b[38;5;28;01mreturn\u001b[39;00m \u001b[38;5;28;01mawait\u001b[39;00m async_query.to_batches(\n\u001b[32m   3675\u001b[39m         max_batch_length=batch_size, timeout=timeout\n\u001b[32m   3676\u001b[39m     )\n",
      "\u001b[36mFile \u001b[39m\u001b[32m~/miniconda3/envs/genai_env/lib/python3.11/site-packages/lancedb/query.py:2846\u001b[39m, in \u001b[36mAsyncVectorQuery.to_batches\u001b[39m\u001b[34m(self, max_batch_length, timeout)\u001b[39m\n\u001b[32m   2840\u001b[39m \u001b[38;5;28;01masync\u001b[39;00m \u001b[38;5;28;01mdef\u001b[39;00m\u001b[38;5;250m \u001b[39m\u001b[34mto_batches\u001b[39m(\n\u001b[32m   2841\u001b[39m     \u001b[38;5;28mself\u001b[39m,\n\u001b[32m   2842\u001b[39m     *,\n\u001b[32m   2843\u001b[39m     max_batch_length: Optional[\u001b[38;5;28mint\u001b[39m] = \u001b[38;5;28;01mNone\u001b[39;00m,\n\u001b[32m   2844\u001b[39m     timeout: Optional[timedelta] = \u001b[38;5;28;01mNone\u001b[39;00m,\n\u001b[32m   2845\u001b[39m ) -> AsyncRecordBatchReader:\n\u001b[32m-> \u001b[39m\u001b[32m2846\u001b[39m     reader = \u001b[38;5;28;01mawait\u001b[39;00m \u001b[38;5;28msuper\u001b[39m().to_batches(timeout=timeout)\n\u001b[32m   2847\u001b[39m     results = pa.Table.from_batches(\u001b[38;5;28;01mawait\u001b[39;00m reader.read_all(), reader.schema)\n\u001b[32m   2848\u001b[39m     \u001b[38;5;28;01mif\u001b[39;00m \u001b[38;5;28mself\u001b[39m._reranker:\n",
      "\u001b[36mFile \u001b[39m\u001b[32m~/miniconda3/envs/genai_env/lib/python3.11/site-packages/lancedb/query.py:2226\u001b[39m, in \u001b[36mAsyncQueryBase.to_batches\u001b[39m\u001b[34m(self, max_batch_length, timeout)\u001b[39m\n\u001b[32m   2203\u001b[39m \u001b[38;5;28;01masync\u001b[39;00m \u001b[38;5;28;01mdef\u001b[39;00m\u001b[38;5;250m \u001b[39m\u001b[34mto_batches\u001b[39m(\n\u001b[32m   2204\u001b[39m     \u001b[38;5;28mself\u001b[39m,\n\u001b[32m   2205\u001b[39m     *,\n\u001b[32m   2206\u001b[39m     max_batch_length: Optional[\u001b[38;5;28mint\u001b[39m] = \u001b[38;5;28;01mNone\u001b[39;00m,\n\u001b[32m   2207\u001b[39m     timeout: Optional[timedelta] = \u001b[38;5;28;01mNone\u001b[39;00m,\n\u001b[32m   2208\u001b[39m ) -> AsyncRecordBatchReader:\n\u001b[32m   2209\u001b[39m \u001b[38;5;250m    \u001b[39m\u001b[33;03m\"\"\"\u001b[39;00m\n\u001b[32m   2210\u001b[39m \u001b[33;03m    Execute the query and return the results as an Apache Arrow RecordBatchReader.\u001b[39;00m\n\u001b[32m   2211\u001b[39m \n\u001b[32m   (...)\u001b[39m\u001b[32m   2223\u001b[39m \u001b[33;03m        complete within the specified time, an error will be raised.\u001b[39;00m\n\u001b[32m   2224\u001b[39m \u001b[33;03m    \"\"\"\u001b[39;00m\n\u001b[32m   2225\u001b[39m     \u001b[38;5;28;01mreturn\u001b[39;00m AsyncRecordBatchReader(\n\u001b[32m-> \u001b[39m\u001b[32m2226\u001b[39m         \u001b[38;5;28;01mawait\u001b[39;00m \u001b[38;5;28mself\u001b[39m._inner.execute(max_batch_length, timeout)\n\u001b[32m   2227\u001b[39m     )\n",
      "\u001b[31mRuntimeError\u001b[39m: lance error: LanceError(Schema): Schema error: No field named table_name. Valid fields are vector, id, text, metadata, _distance., /root/.cargo/registry/src/index.crates.io-1949cf8c6b5b557f/lance-datafusion-0.29.0/src/planner.rs:843:20"
     ]
    }
   ],
   "source": [
    "results = vector_store.similarity_search(\"I want to see how many surgeries are being cancelled each month.\",filter={\"table_name\":\"emergency_metrics\"})\n",
    "print(\"Results:\", results)"
   ]
  },
  {
   "cell_type": "code",
   "execution_count": 104,
   "id": "a542af0e",
   "metadata": {},
   "outputs": [
    {
     "ename": "RuntimeError",
     "evalue": "lance error: LanceError(Schema): Schema error: No field named table_name. Valid fields are vector, id, text, metadata, _distance., /root/.cargo/registry/src/index.crates.io-1949cf8c6b5b557f/lance-datafusion-0.29.0/src/planner.rs:843:20",
     "output_type": "error",
     "traceback": [
      "\u001b[31m---------------------------------------------------------------------------\u001b[39m",
      "\u001b[31mRuntimeError\u001b[39m                              Traceback (most recent call last)",
      "\u001b[36mCell\u001b[39m\u001b[36m \u001b[39m\u001b[32mIn[104]\u001b[39m\u001b[32m, line 11\u001b[39m\n\u001b[32m      1\u001b[39m retriever = vector_store.as_retriever(\n\u001b[32m      2\u001b[39m     search_kwargs={\n\u001b[32m      3\u001b[39m         \u001b[33m\"\u001b[39m\u001b[33mk\u001b[39m\u001b[33m\"\u001b[39m: \u001b[32m5\u001b[39m,\n\u001b[32m   (...)\u001b[39m\u001b[32m      9\u001b[39m \n\u001b[32m     10\u001b[39m )\n\u001b[32m---> \u001b[39m\u001b[32m11\u001b[39m results = \u001b[43mretriever\u001b[49m\u001b[43m.\u001b[49m\u001b[43minvoke\u001b[49m\u001b[43m(\u001b[49m\u001b[33;43m\"\u001b[39;49m\u001b[33;43mWhat is the average wait time in the emergency department?\u001b[39;49m\u001b[33;43m\"\u001b[39;49m\u001b[43m)\u001b[49m\n\u001b[32m     12\u001b[39m \u001b[38;5;28mprint\u001b[39m(\u001b[33m\"\u001b[39m\u001b[33mResults:\u001b[39m\u001b[33m\"\u001b[39m, results)\n",
      "\u001b[36mFile \u001b[39m\u001b[32m~/miniconda3/envs/agent_env/lib/python3.13/site-packages/langchain_core/retrievers.py:259\u001b[39m, in \u001b[36mBaseRetriever.invoke\u001b[39m\u001b[34m(self, input, config, **kwargs)\u001b[39m\n\u001b[32m    257\u001b[39m _kwargs = kwargs \u001b[38;5;28;01mif\u001b[39;00m \u001b[38;5;28mself\u001b[39m._expects_other_args \u001b[38;5;28;01melse\u001b[39;00m {}\n\u001b[32m    258\u001b[39m \u001b[38;5;28;01mif\u001b[39;00m \u001b[38;5;28mself\u001b[39m._new_arg_supported:\n\u001b[32m--> \u001b[39m\u001b[32m259\u001b[39m     result = \u001b[38;5;28;43mself\u001b[39;49m\u001b[43m.\u001b[49m\u001b[43m_get_relevant_documents\u001b[49m\u001b[43m(\u001b[49m\n\u001b[32m    260\u001b[39m \u001b[43m        \u001b[49m\u001b[38;5;28;43minput\u001b[39;49m\u001b[43m,\u001b[49m\u001b[43m \u001b[49m\u001b[43mrun_manager\u001b[49m\u001b[43m=\u001b[49m\u001b[43mrun_manager\u001b[49m\u001b[43m,\u001b[49m\u001b[43m \u001b[49m\u001b[43m*\u001b[49m\u001b[43m*\u001b[49m\u001b[43m_kwargs\u001b[49m\n\u001b[32m    261\u001b[39m \u001b[43m    \u001b[49m\u001b[43m)\u001b[49m\n\u001b[32m    262\u001b[39m \u001b[38;5;28;01melse\u001b[39;00m:\n\u001b[32m    263\u001b[39m     result = \u001b[38;5;28mself\u001b[39m._get_relevant_documents(\u001b[38;5;28minput\u001b[39m, **_kwargs)\n",
      "\u001b[36mFile \u001b[39m\u001b[32m~/miniconda3/envs/agent_env/lib/python3.13/site-packages/langchain_core/vectorstores/base.py:1079\u001b[39m, in \u001b[36mVectorStoreRetriever._get_relevant_documents\u001b[39m\u001b[34m(self, query, run_manager, **kwargs)\u001b[39m\n\u001b[32m   1077\u001b[39m _kwargs = \u001b[38;5;28mself\u001b[39m.search_kwargs | kwargs\n\u001b[32m   1078\u001b[39m \u001b[38;5;28;01mif\u001b[39;00m \u001b[38;5;28mself\u001b[39m.search_type == \u001b[33m\"\u001b[39m\u001b[33msimilarity\u001b[39m\u001b[33m\"\u001b[39m:\n\u001b[32m-> \u001b[39m\u001b[32m1079\u001b[39m     docs = \u001b[38;5;28;43mself\u001b[39;49m\u001b[43m.\u001b[49m\u001b[43mvectorstore\u001b[49m\u001b[43m.\u001b[49m\u001b[43msimilarity_search\u001b[49m\u001b[43m(\u001b[49m\u001b[43mquery\u001b[49m\u001b[43m,\u001b[49m\u001b[43m \u001b[49m\u001b[43m*\u001b[49m\u001b[43m*\u001b[49m\u001b[43m_kwargs\u001b[49m\u001b[43m)\u001b[49m\n\u001b[32m   1080\u001b[39m \u001b[38;5;28;01melif\u001b[39;00m \u001b[38;5;28mself\u001b[39m.search_type == \u001b[33m\"\u001b[39m\u001b[33msimilarity_score_threshold\u001b[39m\u001b[33m\"\u001b[39m:\n\u001b[32m   1081\u001b[39m     docs_and_similarities = (\n\u001b[32m   1082\u001b[39m         \u001b[38;5;28mself\u001b[39m.vectorstore.similarity_search_with_relevance_scores(\n\u001b[32m   1083\u001b[39m             query, **_kwargs\n\u001b[32m   1084\u001b[39m         )\n\u001b[32m   1085\u001b[39m     )\n",
      "\u001b[36mFile \u001b[39m\u001b[32m~/miniconda3/envs/agent_env/lib/python3.13/site-packages/langchain_community/vectorstores/lancedb.py:530\u001b[39m, in \u001b[36mLanceDB.similarity_search\u001b[39m\u001b[34m(self, query, k, name, filter, fts, **kwargs)\u001b[39m\n\u001b[32m    506\u001b[39m \u001b[38;5;28;01mdef\u001b[39;00m\u001b[38;5;250m \u001b[39m\u001b[34msimilarity_search\u001b[39m(\n\u001b[32m    507\u001b[39m     \u001b[38;5;28mself\u001b[39m,\n\u001b[32m    508\u001b[39m     query: \u001b[38;5;28mstr\u001b[39m,\n\u001b[32m   (...)\u001b[39m\u001b[32m    513\u001b[39m     **kwargs: Any,\n\u001b[32m    514\u001b[39m ) -> List[Document]:\n\u001b[32m    515\u001b[39m \u001b[38;5;250m    \u001b[39m\u001b[33;03m\"\"\"Return documents most similar to the query\u001b[39;00m\n\u001b[32m    516\u001b[39m \n\u001b[32m    517\u001b[39m \u001b[33;03m    Args:\u001b[39;00m\n\u001b[32m   (...)\u001b[39m\u001b[32m    528\u001b[39m \u001b[33;03m        List of documents most similar to the query.\u001b[39;00m\n\u001b[32m    529\u001b[39m \u001b[33;03m    \"\"\"\u001b[39;00m\n\u001b[32m--> \u001b[39m\u001b[32m530\u001b[39m     res = \u001b[38;5;28;43mself\u001b[39;49m\u001b[43m.\u001b[49m\u001b[43msimilarity_search_with_score\u001b[49m\u001b[43m(\u001b[49m\n\u001b[32m    531\u001b[39m \u001b[43m        \u001b[49m\u001b[43mquery\u001b[49m\u001b[43m=\u001b[49m\u001b[43mquery\u001b[49m\u001b[43m,\u001b[49m\u001b[43m \u001b[49m\u001b[43mk\u001b[49m\u001b[43m=\u001b[49m\u001b[43mk\u001b[49m\u001b[43m,\u001b[49m\u001b[43m \u001b[49m\u001b[43mname\u001b[49m\u001b[43m=\u001b[49m\u001b[43mname\u001b[49m\u001b[43m,\u001b[49m\u001b[43m \u001b[49m\u001b[38;5;28;43mfilter\u001b[39;49m\u001b[43m=\u001b[49m\u001b[38;5;28;43mfilter\u001b[39;49m\u001b[43m,\u001b[49m\u001b[43m \u001b[49m\u001b[43mfts\u001b[49m\u001b[43m=\u001b[49m\u001b[43mfts\u001b[49m\u001b[43m,\u001b[49m\u001b[43m \u001b[49m\u001b[43mscore\u001b[49m\u001b[43m=\u001b[49m\u001b[38;5;28;43;01mFalse\u001b[39;49;00m\u001b[43m,\u001b[49m\u001b[43m \u001b[49m\u001b[43m*\u001b[49m\u001b[43m*\u001b[49m\u001b[43mkwargs\u001b[49m\n\u001b[32m    532\u001b[39m \u001b[43m    \u001b[49m\u001b[43m)\u001b[49m\n\u001b[32m    533\u001b[39m     \u001b[38;5;28;01mreturn\u001b[39;00m res\n",
      "\u001b[36mFile \u001b[39m\u001b[32m~/miniconda3/envs/agent_env/lib/python3.13/site-packages/langchain_community/vectorstores/lancedb.py:503\u001b[39m, in \u001b[36mLanceDB.similarity_search_with_score\u001b[39m\u001b[34m(self, query, k, filter, **kwargs)\u001b[39m\n\u001b[32m    501\u001b[39m \u001b[38;5;28;01melse\u001b[39;00m:\n\u001b[32m    502\u001b[39m     embedding = \u001b[38;5;28mself\u001b[39m._embedding.embed_query(query)\n\u001b[32m--> \u001b[39m\u001b[32m503\u001b[39m     res = \u001b[38;5;28;43mself\u001b[39;49m\u001b[43m.\u001b[49m\u001b[43m_query\u001b[49m\u001b[43m(\u001b[49m\u001b[43membedding\u001b[49m\u001b[43m,\u001b[49m\u001b[43m \u001b[49m\u001b[43mk\u001b[49m\u001b[43m,\u001b[49m\u001b[43m \u001b[49m\u001b[38;5;28;43mfilter\u001b[39;49m\u001b[43m=\u001b[49m\u001b[38;5;28;43mfilter\u001b[39;49m\u001b[43m,\u001b[49m\u001b[43m \u001b[49m\u001b[43m*\u001b[49m\u001b[43m*\u001b[49m\u001b[43mkwargs\u001b[49m\u001b[43m)\u001b[49m\n\u001b[32m    504\u001b[39m     \u001b[38;5;28;01mreturn\u001b[39;00m \u001b[38;5;28mself\u001b[39m.results_to_docs(res, score=score)\n",
      "\u001b[36mFile \u001b[39m\u001b[32m~/miniconda3/envs/agent_env/lib/python3.13/site-packages/langchain_community/vectorstores/lancedb.py:397\u001b[39m, in \u001b[36mLanceDB._query\u001b[39m\u001b[34m(self, query, k, filter, name, **kwargs)\u001b[39m\n\u001b[32m    394\u001b[39m \u001b[38;5;28;01mif\u001b[39;00m query_type == \u001b[33m\"\u001b[39m\u001b[33mhybrid\u001b[39m\u001b[33m\"\u001b[39m \u001b[38;5;129;01mand\u001b[39;00m \u001b[38;5;28mself\u001b[39m._reranker \u001b[38;5;129;01mis\u001b[39;00m \u001b[38;5;129;01mnot\u001b[39;00m \u001b[38;5;28;01mNone\u001b[39;00m:\n\u001b[32m    395\u001b[39m     lance_query.rerank(reranker=\u001b[38;5;28mself\u001b[39m._reranker)\n\u001b[32m--> \u001b[39m\u001b[32m397\u001b[39m docs = \u001b[43mlance_query\u001b[49m\u001b[43m.\u001b[49m\u001b[43mto_arrow\u001b[49m\u001b[43m(\u001b[49m\u001b[43m)\u001b[49m\n\u001b[32m    398\u001b[39m \u001b[38;5;28;01mif\u001b[39;00m \u001b[38;5;28mlen\u001b[39m(docs) == \u001b[32m0\u001b[39m:\n\u001b[32m    399\u001b[39m     warnings.warn(\u001b[33m\"\u001b[39m\u001b[33mNo results found for the query.\u001b[39m\u001b[33m\"\u001b[39m)\n",
      "\u001b[36mFile \u001b[39m\u001b[32m~/miniconda3/envs/agent_env/lib/python3.13/site-packages/lancedb/query.py:1209\u001b[39m, in \u001b[36mLanceVectorQueryBuilder.to_arrow\u001b[39m\u001b[34m(self, timeout)\u001b[39m\n\u001b[32m   1194\u001b[39m \u001b[38;5;28;01mdef\u001b[39;00m\u001b[38;5;250m \u001b[39m\u001b[34mto_arrow\u001b[39m(\u001b[38;5;28mself\u001b[39m, *, timeout: Optional[timedelta] = \u001b[38;5;28;01mNone\u001b[39;00m) -> pa.Table:\n\u001b[32m   1195\u001b[39m \u001b[38;5;250m    \u001b[39m\u001b[33;03m\"\"\"\u001b[39;00m\n\u001b[32m   1196\u001b[39m \u001b[33;03m    Execute the query and return the results as an\u001b[39;00m\n\u001b[32m   1197\u001b[39m \u001b[33;03m    [Apache Arrow Table](https://arrow.apache.org/docs/python/generated/pyarrow.Table.html#pyarrow.Table).\u001b[39;00m\n\u001b[32m   (...)\u001b[39m\u001b[32m   1207\u001b[39m \u001b[33;03m        If None, wait indefinitely.\u001b[39;00m\n\u001b[32m   1208\u001b[39m \u001b[33;03m    \"\"\"\u001b[39;00m\n\u001b[32m-> \u001b[39m\u001b[32m1209\u001b[39m     \u001b[38;5;28;01mreturn\u001b[39;00m \u001b[38;5;28;43mself\u001b[39;49m\u001b[43m.\u001b[49m\u001b[43mto_batches\u001b[49m\u001b[43m(\u001b[49m\u001b[43mtimeout\u001b[49m\u001b[43m=\u001b[49m\u001b[43mtimeout\u001b[49m\u001b[43m)\u001b[49m.read_all()\n",
      "\u001b[36mFile \u001b[39m\u001b[32m~/miniconda3/envs/agent_env/lib/python3.13/site-packages/lancedb/query.py:1265\u001b[39m, in \u001b[36mLanceVectorQueryBuilder.to_batches\u001b[39m\u001b[34m(self, batch_size, timeout)\u001b[39m\n\u001b[32m   1263\u001b[39m     vector = [v.tolist() \u001b[38;5;28;01mfor\u001b[39;00m v \u001b[38;5;129;01min\u001b[39;00m vector]\n\u001b[32m   1264\u001b[39m query = \u001b[38;5;28mself\u001b[39m.to_query_object()\n\u001b[32m-> \u001b[39m\u001b[32m1265\u001b[39m result_set = \u001b[38;5;28;43mself\u001b[39;49m\u001b[43m.\u001b[49m\u001b[43m_table\u001b[49m\u001b[43m.\u001b[49m\u001b[43m_execute_query\u001b[49m\u001b[43m(\u001b[49m\n\u001b[32m   1266\u001b[39m \u001b[43m    \u001b[49m\u001b[43mquery\u001b[49m\u001b[43m,\u001b[49m\u001b[43m \u001b[49m\u001b[43mbatch_size\u001b[49m\u001b[43m=\u001b[49m\u001b[43mbatch_size\u001b[49m\u001b[43m,\u001b[49m\u001b[43m \u001b[49m\u001b[43mtimeout\u001b[49m\u001b[43m=\u001b[49m\u001b[43mtimeout\u001b[49m\n\u001b[32m   1267\u001b[39m \u001b[43m\u001b[49m\u001b[43m)\u001b[49m\n\u001b[32m   1268\u001b[39m \u001b[38;5;28;01mif\u001b[39;00m \u001b[38;5;28mself\u001b[39m._reranker \u001b[38;5;129;01mis\u001b[39;00m \u001b[38;5;129;01mnot\u001b[39;00m \u001b[38;5;28;01mNone\u001b[39;00m:\n\u001b[32m   1269\u001b[39m     rs_table = result_set.read_all()\n",
      "\u001b[36mFile \u001b[39m\u001b[32m~/miniconda3/envs/agent_env/lib/python3.13/site-packages/lancedb/table.py:2531\u001b[39m, in \u001b[36mLanceTable._execute_query\u001b[39m\u001b[34m(self, query, batch_size, timeout)\u001b[39m\n\u001b[32m   2524\u001b[39m \u001b[38;5;28;01mdef\u001b[39;00m\u001b[38;5;250m \u001b[39m\u001b[34m_execute_query\u001b[39m(\n\u001b[32m   2525\u001b[39m     \u001b[38;5;28mself\u001b[39m,\n\u001b[32m   2526\u001b[39m     query: Query,\n\u001b[32m   (...)\u001b[39m\u001b[32m   2529\u001b[39m     timeout: Optional[timedelta] = \u001b[38;5;28;01mNone\u001b[39;00m,\n\u001b[32m   2530\u001b[39m ) -> pa.RecordBatchReader:\n\u001b[32m-> \u001b[39m\u001b[32m2531\u001b[39m     async_iter = \u001b[43mLOOP\u001b[49m\u001b[43m.\u001b[49m\u001b[43mrun\u001b[49m\u001b[43m(\u001b[49m\n\u001b[32m   2532\u001b[39m \u001b[43m        \u001b[49m\u001b[38;5;28;43mself\u001b[39;49m\u001b[43m.\u001b[49m\u001b[43m_table\u001b[49m\u001b[43m.\u001b[49m\u001b[43m_execute_query\u001b[49m\u001b[43m(\u001b[49m\u001b[43mquery\u001b[49m\u001b[43m,\u001b[49m\u001b[43m \u001b[49m\u001b[43mbatch_size\u001b[49m\u001b[43m=\u001b[49m\u001b[43mbatch_size\u001b[49m\u001b[43m,\u001b[49m\u001b[43m \u001b[49m\u001b[43mtimeout\u001b[49m\u001b[43m=\u001b[49m\u001b[43mtimeout\u001b[49m\u001b[43m)\u001b[49m\n\u001b[32m   2533\u001b[39m \u001b[43m    \u001b[49m\u001b[43m)\u001b[49m\n\u001b[32m   2535\u001b[39m     \u001b[38;5;28;01mdef\u001b[39;00m\u001b[38;5;250m \u001b[39m\u001b[34miter_sync\u001b[39m():\n\u001b[32m   2536\u001b[39m         \u001b[38;5;28;01mtry\u001b[39;00m:\n",
      "\u001b[36mFile \u001b[39m\u001b[32m~/miniconda3/envs/agent_env/lib/python3.13/site-packages/lancedb/background_loop.py:25\u001b[39m, in \u001b[36mBackgroundEventLoop.run\u001b[39m\u001b[34m(self, future)\u001b[39m\n\u001b[32m     24\u001b[39m \u001b[38;5;28;01mdef\u001b[39;00m\u001b[38;5;250m \u001b[39m\u001b[34mrun\u001b[39m(\u001b[38;5;28mself\u001b[39m, future):\n\u001b[32m---> \u001b[39m\u001b[32m25\u001b[39m     \u001b[38;5;28;01mreturn\u001b[39;00m \u001b[43masyncio\u001b[49m\u001b[43m.\u001b[49m\u001b[43mrun_coroutine_threadsafe\u001b[49m\u001b[43m(\u001b[49m\u001b[43mfuture\u001b[49m\u001b[43m,\u001b[49m\u001b[43m \u001b[49m\u001b[38;5;28;43mself\u001b[39;49m\u001b[43m.\u001b[49m\u001b[43mloop\u001b[49m\u001b[43m)\u001b[49m\u001b[43m.\u001b[49m\u001b[43mresult\u001b[49m\u001b[43m(\u001b[49m\u001b[43m)\u001b[49m\n",
      "\u001b[36mFile \u001b[39m\u001b[32m~/miniconda3/envs/agent_env/lib/python3.13/concurrent/futures/_base.py:456\u001b[39m, in \u001b[36mFuture.result\u001b[39m\u001b[34m(self, timeout)\u001b[39m\n\u001b[32m    454\u001b[39m     \u001b[38;5;28;01mraise\u001b[39;00m CancelledError()\n\u001b[32m    455\u001b[39m \u001b[38;5;28;01melif\u001b[39;00m \u001b[38;5;28mself\u001b[39m._state == FINISHED:\n\u001b[32m--> \u001b[39m\u001b[32m456\u001b[39m     \u001b[38;5;28;01mreturn\u001b[39;00m \u001b[38;5;28;43mself\u001b[39;49m\u001b[43m.\u001b[49m\u001b[43m__get_result\u001b[49m\u001b[43m(\u001b[49m\u001b[43m)\u001b[49m\n\u001b[32m    457\u001b[39m \u001b[38;5;28;01melse\u001b[39;00m:\n\u001b[32m    458\u001b[39m     \u001b[38;5;28;01mraise\u001b[39;00m \u001b[38;5;167;01mTimeoutError\u001b[39;00m()\n",
      "\u001b[36mFile \u001b[39m\u001b[32m~/miniconda3/envs/agent_env/lib/python3.13/concurrent/futures/_base.py:401\u001b[39m, in \u001b[36mFuture.__get_result\u001b[39m\u001b[34m(self)\u001b[39m\n\u001b[32m    399\u001b[39m \u001b[38;5;28;01mif\u001b[39;00m \u001b[38;5;28mself\u001b[39m._exception \u001b[38;5;129;01mis\u001b[39;00m \u001b[38;5;129;01mnot\u001b[39;00m \u001b[38;5;28;01mNone\u001b[39;00m:\n\u001b[32m    400\u001b[39m     \u001b[38;5;28;01mtry\u001b[39;00m:\n\u001b[32m--> \u001b[39m\u001b[32m401\u001b[39m         \u001b[38;5;28;01mraise\u001b[39;00m \u001b[38;5;28mself\u001b[39m._exception\n\u001b[32m    402\u001b[39m     \u001b[38;5;28;01mfinally\u001b[39;00m:\n\u001b[32m    403\u001b[39m         \u001b[38;5;66;03m# Break a reference cycle with the exception in self._exception\u001b[39;00m\n\u001b[32m    404\u001b[39m         \u001b[38;5;28mself\u001b[39m = \u001b[38;5;28;01mNone\u001b[39;00m\n",
      "\u001b[36mFile \u001b[39m\u001b[32m~/miniconda3/envs/agent_env/lib/python3.13/site-packages/lancedb/table.py:3674\u001b[39m, in \u001b[36mAsyncTable._execute_query\u001b[39m\u001b[34m(self, query, batch_size, timeout)\u001b[39m\n\u001b[32m   3661\u001b[39m \u001b[38;5;28;01masync\u001b[39;00m \u001b[38;5;28;01mdef\u001b[39;00m\u001b[38;5;250m \u001b[39m\u001b[34m_execute_query\u001b[39m(\n\u001b[32m   3662\u001b[39m     \u001b[38;5;28mself\u001b[39m,\n\u001b[32m   3663\u001b[39m     query: Query,\n\u001b[32m   (...)\u001b[39m\u001b[32m   3669\u001b[39m     \u001b[38;5;66;03m# query to the async version of the query and run that here. This is only\u001b[39;00m\n\u001b[32m   3670\u001b[39m     \u001b[38;5;66;03m# used for that code path right now.\u001b[39;00m\n\u001b[32m   3672\u001b[39m     async_query = \u001b[38;5;28mself\u001b[39m._sync_query_to_async(query)\n\u001b[32m-> \u001b[39m\u001b[32m3674\u001b[39m     \u001b[38;5;28;01mreturn\u001b[39;00m \u001b[38;5;28;01mawait\u001b[39;00m async_query.to_batches(\n\u001b[32m   3675\u001b[39m         max_batch_length=batch_size, timeout=timeout\n\u001b[32m   3676\u001b[39m     )\n",
      "\u001b[36mFile \u001b[39m\u001b[32m~/miniconda3/envs/agent_env/lib/python3.13/site-packages/lancedb/query.py:2846\u001b[39m, in \u001b[36mAsyncVectorQuery.to_batches\u001b[39m\u001b[34m(self, max_batch_length, timeout)\u001b[39m\n\u001b[32m   2840\u001b[39m \u001b[38;5;28;01masync\u001b[39;00m \u001b[38;5;28;01mdef\u001b[39;00m\u001b[38;5;250m \u001b[39m\u001b[34mto_batches\u001b[39m(\n\u001b[32m   2841\u001b[39m     \u001b[38;5;28mself\u001b[39m,\n\u001b[32m   2842\u001b[39m     *,\n\u001b[32m   2843\u001b[39m     max_batch_length: Optional[\u001b[38;5;28mint\u001b[39m] = \u001b[38;5;28;01mNone\u001b[39;00m,\n\u001b[32m   2844\u001b[39m     timeout: Optional[timedelta] = \u001b[38;5;28;01mNone\u001b[39;00m,\n\u001b[32m   2845\u001b[39m ) -> AsyncRecordBatchReader:\n\u001b[32m-> \u001b[39m\u001b[32m2846\u001b[39m     reader = \u001b[38;5;28;01mawait\u001b[39;00m \u001b[38;5;28msuper\u001b[39m().to_batches(timeout=timeout)\n\u001b[32m   2847\u001b[39m     results = pa.Table.from_batches(\u001b[38;5;28;01mawait\u001b[39;00m reader.read_all(), reader.schema)\n\u001b[32m   2848\u001b[39m     \u001b[38;5;28;01mif\u001b[39;00m \u001b[38;5;28mself\u001b[39m._reranker:\n",
      "\u001b[36mFile \u001b[39m\u001b[32m~/miniconda3/envs/agent_env/lib/python3.13/site-packages/lancedb/query.py:2226\u001b[39m, in \u001b[36mAsyncQueryBase.to_batches\u001b[39m\u001b[34m(self, max_batch_length, timeout)\u001b[39m\n\u001b[32m   2203\u001b[39m \u001b[38;5;28;01masync\u001b[39;00m \u001b[38;5;28;01mdef\u001b[39;00m\u001b[38;5;250m \u001b[39m\u001b[34mto_batches\u001b[39m(\n\u001b[32m   2204\u001b[39m     \u001b[38;5;28mself\u001b[39m,\n\u001b[32m   2205\u001b[39m     *,\n\u001b[32m   2206\u001b[39m     max_batch_length: Optional[\u001b[38;5;28mint\u001b[39m] = \u001b[38;5;28;01mNone\u001b[39;00m,\n\u001b[32m   2207\u001b[39m     timeout: Optional[timedelta] = \u001b[38;5;28;01mNone\u001b[39;00m,\n\u001b[32m   2208\u001b[39m ) -> AsyncRecordBatchReader:\n\u001b[32m   2209\u001b[39m \u001b[38;5;250m    \u001b[39m\u001b[33;03m\"\"\"\u001b[39;00m\n\u001b[32m   2210\u001b[39m \u001b[33;03m    Execute the query and return the results as an Apache Arrow RecordBatchReader.\u001b[39;00m\n\u001b[32m   2211\u001b[39m \n\u001b[32m   (...)\u001b[39m\u001b[32m   2223\u001b[39m \u001b[33;03m        complete within the specified time, an error will be raised.\u001b[39;00m\n\u001b[32m   2224\u001b[39m \u001b[33;03m    \"\"\"\u001b[39;00m\n\u001b[32m   2225\u001b[39m     \u001b[38;5;28;01mreturn\u001b[39;00m AsyncRecordBatchReader(\n\u001b[32m-> \u001b[39m\u001b[32m2226\u001b[39m         \u001b[38;5;28;01mawait\u001b[39;00m \u001b[38;5;28mself\u001b[39m._inner.execute(max_batch_length, timeout)\n\u001b[32m   2227\u001b[39m     )\n",
      "\u001b[31mRuntimeError\u001b[39m: lance error: LanceError(Schema): Schema error: No field named table_name. Valid fields are vector, id, text, metadata, _distance., /root/.cargo/registry/src/index.crates.io-1949cf8c6b5b557f/lance-datafusion-0.29.0/src/planner.rs:843:20"
     ]
    }
   ],
   "source": [
    "retriever = vector_store.as_retriever(\n",
    "    search_kwargs={\n",
    "        \"k\": 5,\n",
    "        \"filter\": {\n",
    "            \"table_name\": \"emergency_metrics\"\n",
    "        }\n",
    "    },\n",
    "    metadata_field=\"table_name\",\n",
    "    \n",
    ")\n",
    "results = retriever.invoke(\"What is the average wait time in the emergency department?\")\n",
    "print(\"Results:\", results)"
   ]
  },
  {
   "cell_type": "code",
   "execution_count": 91,
   "id": "fbe4b289",
   "metadata": {},
   "outputs": [
    {
     "data": {
      "text/plain": [
       "[Document(metadata={'id': '618a15da-1cb4-4352-9758-c8c9a64bee5e'}, page_content='{\"type\": \"Metric\", \"table_name\": \"hospital_administration_metrics\", \"column_name\": \"patient_wait_time_admission\", \"data_type\": \"float\", \"granularity\": \"Monthly\", \"calculation\": \"Average time from registration to admission\", \"description\": \"Average time in minutes patients wait for admission\", \"roles_allowed\": []}')]"
      ]
     },
     "execution_count": 91,
     "metadata": {},
     "output_type": "execute_result"
    }
   ],
   "source": [
    "# vector_store.similarity_search(\"What is the name of the table?\", k=1)\n",
    "vector_store.similarity_search(\"waiting time of patients\", k=1,)"
   ]
  },
  {
   "cell_type": "code",
   "execution_count": 47,
   "id": "e0f61198",
   "metadata": {},
   "outputs": [
    {
     "name": "stdout",
     "output_type": "stream",
     "text": [
      "{'query': 'Which departments have the most frequent medication mistakes?', 'result': '{\\n\"expected_metrics\": [\"medication_error_count\"],\\n\"source_table\": [\"patient_safety_metrics\"],\\n\"description\": \"To determine which departments have the most frequent medication mistakes, the \\'medication_error_count\\' metric from the \\'patient_safety_metrics\\' table would be relevant. This metric provides a count of reported medication errors at the department level, so it can be used to identify the departments with the highest number of medication errors.\"\\n}', 'source_documents': [Document(metadata={'id': 'c69a1f12-12b6-4069-aa60-dbd0211d314f'}, page_content='{\"type\": \"Metric\", \"table_name\": \"patient_safety_metrics\", \"column_name\": \"medication_error_count\", \"data_type\": \"int64\", \"granularity\": \"Department-level\", \"calculation\": \"Count of reported medication errors\", \"description\": \"Number of medication errors reported\", \"roles_allowed\": [\"non_clinical_staff\", \"manager\"]}'), Document(metadata={'id': '093627ea-5465-4ba3-b6cf-9a47849d62ef'}, page_content='{\"type\": \"Metric\", \"table_name\": \"inpatient_metrics\", \"column_name\": \"medication_error_rate\", \"data_type\": \"float\", \"granularity\": \"Monthly\", \"calculation\": \"(Medication Errors / Patient Days) * 1000\", \"description\": \"Rate of medication errors per 1,000 patient days\", \"roles_allowed\": [\"manager\"]}'), Document(metadata={'id': '8ed7dc8a-0787-4627-9bc0-9e0f8504ff88'}, page_content='{\"type\": \"Metric\", \"table_name\": \"pharmacy_metrics\", \"column_name\": \"dispensing_error_rate\", \"data_type\": \"float64\", \"granularity\": \"Medication-type level\", \"calculation\": \"(# Dispensing Errors / Total Prescriptions) * 100\", \"description\": \"Percentage of errors during medication dispensing\", \"roles_allowed\": [\"manager\"]}'), Document(metadata={'id': '0ef45c9e-5ed5-4c01-b557-66a72a7626b7'}, page_content='{\"type\": \"Identifier\", \"table_name\": \"patient_safety_metrics\", \"column_name\": \"patient_safety_incidents\", \"data_type\": \"int64\", \"granularity\": \"Department-level\", \"calculation\": \"Total safety incidents logged per department\", \"description\": \"Number of reported patient safety incidents\", \"roles_allowed\": [\"manager\"]}')]}\n"
     ]
    }
   ],
   "source": [
    "from langchain_community.retrievers.kendra import AmazonKendraRetriever\n",
    "from langchain.chains import RetrievalQA\n",
    "from langchain_openai import ChatOpenAI\n",
    "from langchain.prompts import PromptTemplate\n",
    "\n",
    "# kendra_retriever = AmazonKendraRetriever(index_id=\"711df937-7bfb-4643-8e47-c433516d562d\",min_score_confidence=0.1,top_k=10)\n",
    "\n",
    "kendra_prompt = \"\"\"\n",
    "You are a medical data assistant helping retrieve structured answers from enterprise medical documents.\n",
    "input metrics:\n",
    "{question}\n",
    "{context}\n",
    "\n",
    "Given a **user query**, extract and return the following:\n",
    "\n",
    "1. **Expected Metrics Returned**: Identify all the relevant column name(s) of the metric.\n",
    "2. **Source Table**: Identify the relevant table name(s) that contains the above selected column(s).\n",
    "3. **Description**: Provide a brief plain-language explanation of how the obtained metrics and source table(s) are relevant fot the user query.\n",
    "\n",
    "Format your response as JSON with the following keys:\n",
    "expected_metrics\n",
    "source_table\n",
    "description\n",
    "\"\"\"\n",
    "prompt = PromptTemplate(\n",
    "    template=kendra_prompt,\n",
    "    input_variables=[\"question\", \"context\"],\n",
    "    # partial_variables={\"role\": \"manager\"}\n",
    ")\n",
    "llm = ChatBedrock(\n",
    "    region_name=\"ap-south-1\",\n",
    "    model_id=\"anthropic.claude-3-sonnet-20240229-v1:0\",\n",
    "    client=client,\n",
    ")\n",
    "retrieval_chain = RetrievalQA.from_chain_type(\n",
    "    llm=llm,\n",
    "    retriever=lance_retriever,\n",
    "    chain_type_kwargs={\"prompt\": prompt},\n",
    "    return_source_documents=True,\n",
    "    chain_type=\"stuff\",  # or \"map_reduce\" for larger contexts\n",
    ")\n",
    "\n",
    "response = retrieval_chain.invoke({\"query\": \"Which departments have the most frequent medication mistakes?\"})\n",
    "print(response)"
   ]
  },
  {
   "cell_type": "code",
   "execution_count": 48,
   "id": "3c3388eb",
   "metadata": {},
   "outputs": [
    {
     "name": "stdout",
     "output_type": "stream",
     "text": [
      "{\n",
      "\"expected_metrics\": [\"medication_error_count\"],\n",
      "\"source_table\": [\"patient_safety_metrics\"],\n",
      "\"description\": \"To determine which departments have the most frequent medication mistakes, the 'medication_error_count' metric from the 'patient_safety_metrics' table would be relevant. This metric provides a count of reported medication errors at the department level, so it can be used to identify the departments with the highest number of medication errors.\"\n",
      "}\n"
     ]
    }
   ],
   "source": [
    "print(response['result'])"
   ]
  },
  {
   "cell_type": "code",
   "execution_count": 46,
   "id": "5ca116ca",
   "metadata": {},
   "outputs": [
    {
     "data": {
      "text/plain": [
       "[Document(metadata={'id': 'c69a1f12-12b6-4069-aa60-dbd0211d314f'}, page_content='{\"type\": \"Metric\", \"table_name\": \"patient_safety_metrics\", \"column_name\": \"medication_error_count\", \"data_type\": \"int64\", \"granularity\": \"Department-level\", \"calculation\": \"Count of reported medication errors\", \"description\": \"Number of medication errors reported\", \"roles_allowed\": [\"non_clinical_staff\", \"manager\"]}'),\n",
       " Document(metadata={'id': '093627ea-5465-4ba3-b6cf-9a47849d62ef'}, page_content='{\"type\": \"Metric\", \"table_name\": \"inpatient_metrics\", \"column_name\": \"medication_error_rate\", \"data_type\": \"float\", \"granularity\": \"Monthly\", \"calculation\": \"(Medication Errors / Patient Days) * 1000\", \"description\": \"Rate of medication errors per 1,000 patient days\", \"roles_allowed\": [\"manager\"]}'),\n",
       " Document(metadata={'id': '8ed7dc8a-0787-4627-9bc0-9e0f8504ff88'}, page_content='{\"type\": \"Metric\", \"table_name\": \"pharmacy_metrics\", \"column_name\": \"dispensing_error_rate\", \"data_type\": \"float64\", \"granularity\": \"Medication-type level\", \"calculation\": \"(# Dispensing Errors / Total Prescriptions) * 100\", \"description\": \"Percentage of errors during medication dispensing\", \"roles_allowed\": [\"manager\"]}'),\n",
       " Document(metadata={'id': '0ef45c9e-5ed5-4c01-b557-66a72a7626b7'}, page_content='{\"type\": \"Identifier\", \"table_name\": \"patient_safety_metrics\", \"column_name\": \"patient_safety_incidents\", \"data_type\": \"int64\", \"granularity\": \"Department-level\", \"calculation\": \"Total safety incidents logged per department\", \"description\": \"Number of reported patient safety incidents\", \"roles_allowed\": [\"manager\"]}')]"
      ]
     },
     "execution_count": 46,
     "metadata": {},
     "output_type": "execute_result"
    }
   ],
   "source": [
    "lance_retriever.invoke(\"Which departments have the most frequent medication mistakes?\",topk=10)"
   ]
  },
  {
   "cell_type": "code",
   "execution_count": null,
   "id": "7b6996a5",
   "metadata": {},
   "outputs": [],
   "source": []
  }
 ],
 "metadata": {
  "kernelspec": {
   "display_name": "agent_test",
   "language": "python",
   "name": "python3"
  },
  "language_info": {
   "codemirror_mode": {
    "name": "ipython",
    "version": 3
   },
   "file_extension": ".py",
   "mimetype": "text/x-python",
   "name": "python",
   "nbconvert_exporter": "python",
   "pygments_lexer": "ipython3",
   "version": "3.13.5"
  }
 },
 "nbformat": 4,
 "nbformat_minor": 5
}
