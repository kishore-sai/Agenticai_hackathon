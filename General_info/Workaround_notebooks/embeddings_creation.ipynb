{
 "cells": [
  {
   "cell_type": "code",
   "execution_count": 3,
   "id": "0fcaaf02",
   "metadata": {},
   "outputs": [],
   "source": [
    "import boto3\n",
    "from io import BytesIO\n",
    "from langchain_community.llms import Bedrock\n",
    "from langchain_aws import ChatBedrock\n",
    "from langchain.chains import RetrievalQA\n",
    "from langchain_core.prompts import PromptTemplate\n",
    "session = boto3.Session(profile_name='my-session-1')\n",
    "client = boto3.client('bedrock-runtime',region_name='ap-south-1',aws_access_key_id=session.get_credentials().access_key,\n",
    "    aws_secret_access_key=session.get_credentials().secret_key,\n",
    "    aws_session_token=session.get_credentials().token)\n",
    "# Initialize S3 client\n",
    "# s3 = boto3.client('s3')\n",
    "s3 = session.resource('s3')"
   ]
  },
  {
   "cell_type": "code",
   "execution_count": 6,
   "id": "9f5ba322",
   "metadata": {},
   "outputs": [],
   "source": [
    "import os\n",
    "os.environ[\"AWS_ACCESS_KEY_ID\"] = session.get_credentials().access_key\n",
    "os.environ[\"AWS_SECRET_ACCESS_KEY\"] = session.get_credentials().secret_key\n",
    "os.environ[\"AWS_SESSION_TOKEN\"] = session.get_credentials().token\n"
   ]
  },
  {
   "cell_type": "code",
   "execution_count": 7,
   "id": "5a719348",
   "metadata": {},
   "outputs": [
    {
     "name": "stdout",
     "output_type": "stream",
     "text": [
      "1-dataset-team-impulse\n",
      "ai-alchemists-1729\n",
      "ai-lifeline\n",
      "ai-tigercare-lab\n",
      "aigladiators\n",
      "aws-glue-assets-011528265986-ap-south-1\n",
      "byteforge-bkt\n",
      "code-buddies\n",
      "csk-telemetry-data\n",
      "databricks-workspace-stack-e024d-bucket\n",
      "databricks-workspace-stack-e024d-lambdazipsbucket-auo8rmzffvib\n",
      "dataset-team-impulse\n",
      "disruptops-healthcare\n",
      "fault-squad\n",
      "finops-bucket-807431\n",
      "histreamics-uc-metastore-ap-south-1\n",
      "insightsrxdata\n",
      "iottelemetry1\n",
      "iottestbucket01\n",
      "mcd-force\n",
      "medical-docs-upload\n",
      "noname-tpl\n",
      "ragents\n",
      "shubham-aws-bedrock-practise1\n",
      "sophos-optix-flowlogs-011528265986-ap-south-1\n",
      "sophos-optix-flowlogs-011528265986-eu-west-1\n",
      "sophos-optix-flowlogs-011528265986-us-east-1\n",
      "sophos-optix-flowlogs-011528265986-us-east-2\n",
      "teamfalcon\n",
      "teamindia-aps-2025\n",
      "teamindia-s3-aps1\n",
      "tiger-tfg-poc\n",
      "tiger-tpl-curebot-healthcare\n",
      "tigermd-case3-tpl\n",
      "tpl-byte-wizards\n",
      "tpl-insightrx\n",
      "tpl-mediquery\n",
      "tpl-streamnova\n",
      "tplhackathondata\n",
      "vita-agents\n"
     ]
    }
   ],
   "source": [
    "for bucket in s3.buckets.all():\n",
    "    print(bucket.name)"
   ]
  },
  {
   "cell_type": "code",
   "execution_count": 8,
   "id": "b461d293",
   "metadata": {},
   "outputs": [
    {
     "ename": "NameError",
     "evalue": "name 'column_retriever' is not defined",
     "output_type": "error",
     "traceback": [
      "\u001b[31m---------------------------------------------------------------------------\u001b[39m",
      "\u001b[31mNameError\u001b[39m                                 Traceback (most recent call last)",
      "\u001b[36mCell\u001b[39m\u001b[36m \u001b[39m\u001b[32mIn[8]\u001b[39m\u001b[32m, line 23\u001b[39m\n\u001b[32m      1\u001b[39m llm = ChatBedrock(\n\u001b[32m      2\u001b[39m     region_name=\u001b[33m\"\u001b[39m\u001b[33map-south-1\u001b[39m\u001b[33m\"\u001b[39m,\n\u001b[32m      3\u001b[39m     \u001b[38;5;66;03m# model_id=\"meta.llama3-70b-instruct-v1:0\",\u001b[39;00m\n\u001b[32m   (...)\u001b[39m\u001b[32m     10\u001b[39m \n\u001b[32m     11\u001b[39m )\n\u001b[32m     13\u001b[39m prompt = PromptTemplate(\n\u001b[32m     14\u001b[39m     input_variables=[\u001b[33m\"\u001b[39m\u001b[33mcontext\u001b[39m\u001b[33m\"\u001b[39m, \u001b[33m\"\u001b[39m\u001b[33mquestion\u001b[39m\u001b[33m\"\u001b[39m],\n\u001b[32m     15\u001b[39m     template=\u001b[33m\"\"\"\u001b[39m\u001b[33mUse the following metadata to answer the question:\u001b[39m\n\u001b[32m   (...)\u001b[39m\u001b[32m     18\u001b[39m \u001b[33m    Answer:\u001b[39m\u001b[33m\"\"\"\u001b[39m\n\u001b[32m     19\u001b[39m )\n\u001b[32m     21\u001b[39m qa_chain = RetrievalQA.from_chain_type(\n\u001b[32m     22\u001b[39m     llm=llm,\n\u001b[32m---> \u001b[39m\u001b[32m23\u001b[39m     retriever=\u001b[43mcolumn_retriever\u001b[49m,  \u001b[38;5;66;03m# or table_retriever\u001b[39;00m\n\u001b[32m     24\u001b[39m     return_source_documents=\u001b[38;5;28;01mTrue\u001b[39;00m,\n\u001b[32m     25\u001b[39m     chain_type_kwargs={\u001b[33m\"\u001b[39m\u001b[33mprompt\u001b[39m\u001b[33m\"\u001b[39m: prompt}\n\u001b[32m     26\u001b[39m )\n\u001b[32m     28\u001b[39m response = qa_chain.invoke({\u001b[33m\"\u001b[39m\u001b[33mquery\u001b[39m\u001b[33m\"\u001b[39m: \u001b[33m\"\u001b[39m\u001b[33mHow long do patients wait in the emergency department?\u001b[39m\u001b[33m\"\u001b[39m})\n\u001b[32m     29\u001b[39m \u001b[38;5;28mprint\u001b[39m(response[\u001b[33m'\u001b[39m\u001b[33mresult\u001b[39m\u001b[33m'\u001b[39m])\n",
      "\u001b[31mNameError\u001b[39m: name 'column_retriever' is not defined"
     ]
    }
   ],
   "source": [
    "\n",
    "\n",
    "llm = ChatBedrock(\n",
    "    region_name=\"ap-south-1\",\n",
    "    # model_id=\"meta.llama3-70b-instruct-v1:0\",\n",
    "    model_id=\"anthropic.claude-3-sonnet-20240229-v1:0\",\n",
    "    # inferenceConfiguration={\n",
    "    #     \"inferenceConfigurationId\": \"arn:aws:sts::011528265986:assumed-role/tpl-sandbox-batch/\"\n",
    "    # },\n",
    "    client=client,\n",
    "    # session=session,\n",
    "\n",
    ")\n",
    "\n",
    "prompt = PromptTemplate(\n",
    "    input_variables=[\"context\", \"question\"],\n",
    "    template=\"\"\"Use the following metadata to answer the question:\n",
    "    {context}\n",
    "    Question: {question}\n",
    "    Answer:\"\"\"\n",
    ")\n",
    "\n",
    "qa_chain = RetrievalQA.from_chain_type(\n",
    "    llm=llm,\n",
    "    retriever=column_retriever,  # or table_retriever\n",
    "    return_source_documents=True,\n",
    "    chain_type_kwargs={\"prompt\": prompt}\n",
    ")\n",
    "\n",
    "response = qa_chain.invoke({\"query\": \"How long do patients wait in the emergency department?\"})\n",
    "print(response['result'])\n",
    "\n",
    "\n",
    "# llm.invoke(\"generate a sql query for list the patients from patients table\")"
   ]
  },
  {
   "cell_type": "code",
   "execution_count": 4,
   "id": "2497214c",
   "metadata": {},
   "outputs": [
    {
     "ename": "AccessDeniedException",
     "evalue": "An error occurred (AccessDeniedException) when calling the Retrieve operation: User: arn:aws:iam::207212954385:user/kishoresai.ganes@tigeranalytics.com is not authorized to perform: kendra:Retrieve on resource: arn:aws:kendra:ap-south-1:207212954385:index/711df937-7bfb-4643-8e47-c433516d562d because no identity-based policy allows the kendra:Retrieve action",
     "output_type": "error",
     "traceback": [
      "\u001b[31m---------------------------------------------------------------------------\u001b[39m",
      "\u001b[31mAccessDeniedException\u001b[39m                     Traceback (most recent call last)",
      "\u001b[36mCell\u001b[39m\u001b[36m \u001b[39m\u001b[32mIn[4]\u001b[39m\u001b[32m, line 43\u001b[39m\n\u001b[32m     30\u001b[39m llm = ChatBedrock(\n\u001b[32m     31\u001b[39m     region_name=\u001b[33m\"\u001b[39m\u001b[33map-south-1\u001b[39m\u001b[33m\"\u001b[39m,\n\u001b[32m     32\u001b[39m     model_id=\u001b[33m\"\u001b[39m\u001b[33manthropic.claude-3-sonnet-20240229-v1:0\u001b[39m\u001b[33m\"\u001b[39m,\n\u001b[32m     33\u001b[39m     client=client,\n\u001b[32m     34\u001b[39m )\n\u001b[32m     35\u001b[39m retrieval_chain = RetrievalQA.from_chain_type(\n\u001b[32m     36\u001b[39m     llm=llm,\n\u001b[32m     37\u001b[39m     retriever=kendra_retriever,\n\u001b[32m   (...)\u001b[39m\u001b[32m     40\u001b[39m     chain_type=\u001b[33m\"\u001b[39m\u001b[33mstuff\u001b[39m\u001b[33m\"\u001b[39m,  \u001b[38;5;66;03m# or \"map_reduce\" for larger contexts\u001b[39;00m\n\u001b[32m     41\u001b[39m )\n\u001b[32m---> \u001b[39m\u001b[32m43\u001b[39m response = \u001b[43mretrieval_chain\u001b[49m\u001b[43m.\u001b[49m\u001b[43minvoke\u001b[49m\u001b[43m(\u001b[49m\u001b[43m{\u001b[49m\u001b[33;43m\"\u001b[39;49m\u001b[33;43mquery\u001b[39;49m\u001b[33;43m\"\u001b[39;49m\u001b[43m:\u001b[49m\u001b[43m \u001b[49m\u001b[33;43m\"\u001b[39;49m\u001b[33;43mHow long do patients usually wait before getting treated in the emergency room in a month?\u001b[39;49m\u001b[33;43m\"\u001b[39;49m\u001b[43m}\u001b[49m\u001b[43m)\u001b[49m\n\u001b[32m     44\u001b[39m \u001b[38;5;28mprint\u001b[39m(response)\n",
      "\u001b[36mFile \u001b[39m\u001b[32m~/miniforge/envs/agent_test/lib/python3.13/site-packages/langchain/chains/base.py:167\u001b[39m, in \u001b[36mChain.invoke\u001b[39m\u001b[34m(self, input, config, **kwargs)\u001b[39m\n\u001b[32m    165\u001b[39m \u001b[38;5;28;01mexcept\u001b[39;00m \u001b[38;5;167;01mBaseException\u001b[39;00m \u001b[38;5;28;01mas\u001b[39;00m e:\n\u001b[32m    166\u001b[39m     run_manager.on_chain_error(e)\n\u001b[32m--> \u001b[39m\u001b[32m167\u001b[39m     \u001b[38;5;28;01mraise\u001b[39;00m e\n\u001b[32m    168\u001b[39m run_manager.on_chain_end(outputs)\n\u001b[32m    170\u001b[39m \u001b[38;5;28;01mif\u001b[39;00m include_run_info:\n",
      "\u001b[36mFile \u001b[39m\u001b[32m~/miniforge/envs/agent_test/lib/python3.13/site-packages/langchain/chains/base.py:157\u001b[39m, in \u001b[36mChain.invoke\u001b[39m\u001b[34m(self, input, config, **kwargs)\u001b[39m\n\u001b[32m    154\u001b[39m \u001b[38;5;28;01mtry\u001b[39;00m:\n\u001b[32m    155\u001b[39m     \u001b[38;5;28mself\u001b[39m._validate_inputs(inputs)\n\u001b[32m    156\u001b[39m     outputs = (\n\u001b[32m--> \u001b[39m\u001b[32m157\u001b[39m         \u001b[38;5;28;43mself\u001b[39;49m\u001b[43m.\u001b[49m\u001b[43m_call\u001b[49m\u001b[43m(\u001b[49m\u001b[43minputs\u001b[49m\u001b[43m,\u001b[49m\u001b[43m \u001b[49m\u001b[43mrun_manager\u001b[49m\u001b[43m=\u001b[49m\u001b[43mrun_manager\u001b[49m\u001b[43m)\u001b[49m\n\u001b[32m    158\u001b[39m         \u001b[38;5;28;01mif\u001b[39;00m new_arg_supported\n\u001b[32m    159\u001b[39m         \u001b[38;5;28;01melse\u001b[39;00m \u001b[38;5;28mself\u001b[39m._call(inputs)\n\u001b[32m    160\u001b[39m     )\n\u001b[32m    162\u001b[39m     final_outputs: \u001b[38;5;28mdict\u001b[39m[\u001b[38;5;28mstr\u001b[39m, Any] = \u001b[38;5;28mself\u001b[39m.prep_outputs(\n\u001b[32m    163\u001b[39m         inputs, outputs, return_only_outputs\n\u001b[32m    164\u001b[39m     )\n\u001b[32m    165\u001b[39m \u001b[38;5;28;01mexcept\u001b[39;00m \u001b[38;5;167;01mBaseException\u001b[39;00m \u001b[38;5;28;01mas\u001b[39;00m e:\n",
      "\u001b[36mFile \u001b[39m\u001b[32m~/miniforge/envs/agent_test/lib/python3.13/site-packages/langchain/chains/retrieval_qa/base.py:151\u001b[39m, in \u001b[36mBaseRetrievalQA._call\u001b[39m\u001b[34m(self, inputs, run_manager)\u001b[39m\n\u001b[32m    147\u001b[39m accepts_run_manager = (\n\u001b[32m    148\u001b[39m     \u001b[33m\"\u001b[39m\u001b[33mrun_manager\u001b[39m\u001b[33m\"\u001b[39m \u001b[38;5;129;01min\u001b[39;00m inspect.signature(\u001b[38;5;28mself\u001b[39m._get_docs).parameters\n\u001b[32m    149\u001b[39m )\n\u001b[32m    150\u001b[39m \u001b[38;5;28;01mif\u001b[39;00m accepts_run_manager:\n\u001b[32m--> \u001b[39m\u001b[32m151\u001b[39m     docs = \u001b[38;5;28;43mself\u001b[39;49m\u001b[43m.\u001b[49m\u001b[43m_get_docs\u001b[49m\u001b[43m(\u001b[49m\u001b[43mquestion\u001b[49m\u001b[43m,\u001b[49m\u001b[43m \u001b[49m\u001b[43mrun_manager\u001b[49m\u001b[43m=\u001b[49m\u001b[43m_run_manager\u001b[49m\u001b[43m)\u001b[49m\n\u001b[32m    152\u001b[39m \u001b[38;5;28;01melse\u001b[39;00m:\n\u001b[32m    153\u001b[39m     docs = \u001b[38;5;28mself\u001b[39m._get_docs(question)  \u001b[38;5;66;03m# type: ignore[call-arg]\u001b[39;00m\n",
      "\u001b[36mFile \u001b[39m\u001b[32m~/miniforge/envs/agent_test/lib/python3.13/site-packages/langchain/chains/retrieval_qa/base.py:271\u001b[39m, in \u001b[36mRetrievalQA._get_docs\u001b[39m\u001b[34m(self, question, run_manager)\u001b[39m\n\u001b[32m    264\u001b[39m \u001b[38;5;28;01mdef\u001b[39;00m\u001b[38;5;250m \u001b[39m\u001b[34m_get_docs\u001b[39m(\n\u001b[32m    265\u001b[39m     \u001b[38;5;28mself\u001b[39m,\n\u001b[32m    266\u001b[39m     question: \u001b[38;5;28mstr\u001b[39m,\n\u001b[32m    267\u001b[39m     *,\n\u001b[32m    268\u001b[39m     run_manager: CallbackManagerForChainRun,\n\u001b[32m    269\u001b[39m ) -> \u001b[38;5;28mlist\u001b[39m[Document]:\n\u001b[32m    270\u001b[39m \u001b[38;5;250m    \u001b[39m\u001b[33;03m\"\"\"Get docs.\"\"\"\u001b[39;00m\n\u001b[32m--> \u001b[39m\u001b[32m271\u001b[39m     \u001b[38;5;28;01mreturn\u001b[39;00m \u001b[38;5;28;43mself\u001b[39;49m\u001b[43m.\u001b[49m\u001b[43mretriever\u001b[49m\u001b[43m.\u001b[49m\u001b[43minvoke\u001b[49m\u001b[43m(\u001b[49m\n\u001b[32m    272\u001b[39m \u001b[43m        \u001b[49m\u001b[43mquestion\u001b[49m\u001b[43m,\u001b[49m\u001b[43m \u001b[49m\u001b[43mconfig\u001b[49m\u001b[43m=\u001b[49m\u001b[43m{\u001b[49m\u001b[33;43m\"\u001b[39;49m\u001b[33;43mcallbacks\u001b[39;49m\u001b[33;43m\"\u001b[39;49m\u001b[43m:\u001b[49m\u001b[43m \u001b[49m\u001b[43mrun_manager\u001b[49m\u001b[43m.\u001b[49m\u001b[43mget_child\u001b[49m\u001b[43m(\u001b[49m\u001b[43m)\u001b[49m\u001b[43m}\u001b[49m\n\u001b[32m    273\u001b[39m \u001b[43m    \u001b[49m\u001b[43m)\u001b[49m\n",
      "\u001b[36mFile \u001b[39m\u001b[32m~/miniforge/envs/agent_test/lib/python3.13/site-packages/langchain_core/retrievers.py:259\u001b[39m, in \u001b[36mBaseRetriever.invoke\u001b[39m\u001b[34m(self, input, config, **kwargs)\u001b[39m\n\u001b[32m    257\u001b[39m _kwargs = kwargs \u001b[38;5;28;01mif\u001b[39;00m \u001b[38;5;28mself\u001b[39m._expects_other_args \u001b[38;5;28;01melse\u001b[39;00m {}\n\u001b[32m    258\u001b[39m \u001b[38;5;28;01mif\u001b[39;00m \u001b[38;5;28mself\u001b[39m._new_arg_supported:\n\u001b[32m--> \u001b[39m\u001b[32m259\u001b[39m     result = \u001b[38;5;28;43mself\u001b[39;49m\u001b[43m.\u001b[49m\u001b[43m_get_relevant_documents\u001b[49m\u001b[43m(\u001b[49m\n\u001b[32m    260\u001b[39m \u001b[43m        \u001b[49m\u001b[38;5;28;43minput\u001b[39;49m\u001b[43m,\u001b[49m\u001b[43m \u001b[49m\u001b[43mrun_manager\u001b[49m\u001b[43m=\u001b[49m\u001b[43mrun_manager\u001b[49m\u001b[43m,\u001b[49m\u001b[43m \u001b[49m\u001b[43m*\u001b[49m\u001b[43m*\u001b[49m\u001b[43m_kwargs\u001b[49m\n\u001b[32m    261\u001b[39m \u001b[43m    \u001b[49m\u001b[43m)\u001b[49m\n\u001b[32m    262\u001b[39m \u001b[38;5;28;01melse\u001b[39;00m:\n\u001b[32m    263\u001b[39m     result = \u001b[38;5;28mself\u001b[39m._get_relevant_documents(\u001b[38;5;28minput\u001b[39m, **_kwargs)\n",
      "\u001b[36mFile \u001b[39m\u001b[32m~/miniforge/envs/agent_test/lib/python3.13/site-packages/langchain_community/retrievers/kendra.py:494\u001b[39m, in \u001b[36mAmazonKendraRetriever._get_relevant_documents\u001b[39m\u001b[34m(self, query, run_manager)\u001b[39m\n\u001b[32m    480\u001b[39m \u001b[38;5;28;01mdef\u001b[39;00m\u001b[38;5;250m \u001b[39m\u001b[34m_get_relevant_documents\u001b[39m(\n\u001b[32m    481\u001b[39m     \u001b[38;5;28mself\u001b[39m,\n\u001b[32m    482\u001b[39m     query: \u001b[38;5;28mstr\u001b[39m,\n\u001b[32m    483\u001b[39m     *,\n\u001b[32m    484\u001b[39m     run_manager: CallbackManagerForRetrieverRun,\n\u001b[32m    485\u001b[39m ) -> List[Document]:\n\u001b[32m    486\u001b[39m \u001b[38;5;250m    \u001b[39m\u001b[33;03m\"\"\"Run search on Kendra index and get top k documents\u001b[39;00m\n\u001b[32m    487\u001b[39m \n\u001b[32m    488\u001b[39m \u001b[33;03m    Example:\u001b[39;00m\n\u001b[32m   (...)\u001b[39m\u001b[32m    492\u001b[39m \n\u001b[32m    493\u001b[39m \u001b[33;03m    \"\"\"\u001b[39;00m\n\u001b[32m--> \u001b[39m\u001b[32m494\u001b[39m     result_items = \u001b[38;5;28;43mself\u001b[39;49m\u001b[43m.\u001b[49m\u001b[43m_kendra_query\u001b[49m\u001b[43m(\u001b[49m\u001b[43mquery\u001b[49m\u001b[43m)\u001b[49m\n\u001b[32m    495\u001b[39m     top_k_docs = \u001b[38;5;28mself\u001b[39m._get_top_k_docs(result_items)\n\u001b[32m    496\u001b[39m     \u001b[38;5;28;01mreturn\u001b[39;00m \u001b[38;5;28mself\u001b[39m._filter_by_score_confidence(top_k_docs)\n",
      "\u001b[36mFile \u001b[39m\u001b[32m~/miniforge/envs/agent_test/lib/python3.13/site-packages/langchain_community/retrievers/kendra.py:444\u001b[39m, in \u001b[36mAmazonKendraRetriever._kendra_query\u001b[39m\u001b[34m(self, query)\u001b[39m\n\u001b[32m    441\u001b[39m \u001b[38;5;28;01mif\u001b[39;00m \u001b[38;5;28mself\u001b[39m.user_context \u001b[38;5;129;01mis\u001b[39;00m \u001b[38;5;129;01mnot\u001b[39;00m \u001b[38;5;28;01mNone\u001b[39;00m:\n\u001b[32m    442\u001b[39m     kendra_kwargs[\u001b[33m\"\u001b[39m\u001b[33mUserContext\u001b[39m\u001b[33m\"\u001b[39m] = \u001b[38;5;28mself\u001b[39m.user_context\n\u001b[32m--> \u001b[39m\u001b[32m444\u001b[39m response = \u001b[38;5;28;43mself\u001b[39;49m\u001b[43m.\u001b[49m\u001b[43mclient\u001b[49m\u001b[43m.\u001b[49m\u001b[43mretrieve\u001b[49m\u001b[43m(\u001b[49m\u001b[43m*\u001b[49m\u001b[43m*\u001b[49m\u001b[43mkendra_kwargs\u001b[49m\u001b[43m)\u001b[49m\n\u001b[32m    445\u001b[39m r_result = RetrieveResult.parse_obj(response)\n\u001b[32m    446\u001b[39m \u001b[38;5;28;01mif\u001b[39;00m r_result.ResultItems:\n",
      "\u001b[36mFile \u001b[39m\u001b[32m~/miniforge/envs/agent_test/lib/python3.13/site-packages/botocore/client.py:598\u001b[39m, in \u001b[36mClientCreator._create_api_method.<locals>._api_call\u001b[39m\u001b[34m(self, *args, **kwargs)\u001b[39m\n\u001b[32m    594\u001b[39m     \u001b[38;5;28;01mraise\u001b[39;00m \u001b[38;5;167;01mTypeError\u001b[39;00m(\n\u001b[32m    595\u001b[39m         \u001b[33mf\u001b[39m\u001b[33m\"\u001b[39m\u001b[38;5;132;01m{\u001b[39;00mpy_operation_name\u001b[38;5;132;01m}\u001b[39;00m\u001b[33m() only accepts keyword arguments.\u001b[39m\u001b[33m\"\u001b[39m\n\u001b[32m    596\u001b[39m     )\n\u001b[32m    597\u001b[39m \u001b[38;5;66;03m# The \"self\" in this scope is referring to the BaseClient.\u001b[39;00m\n\u001b[32m--> \u001b[39m\u001b[32m598\u001b[39m \u001b[38;5;28;01mreturn\u001b[39;00m \u001b[38;5;28;43mself\u001b[39;49m\u001b[43m.\u001b[49m\u001b[43m_make_api_call\u001b[49m\u001b[43m(\u001b[49m\u001b[43moperation_name\u001b[49m\u001b[43m,\u001b[49m\u001b[43m \u001b[49m\u001b[43mkwargs\u001b[49m\u001b[43m)\u001b[49m\n",
      "\u001b[36mFile \u001b[39m\u001b[32m~/miniforge/envs/agent_test/lib/python3.13/site-packages/botocore/context.py:123\u001b[39m, in \u001b[36mwith_current_context.<locals>.decorator.<locals>.wrapper\u001b[39m\u001b[34m(*args, **kwargs)\u001b[39m\n\u001b[32m    121\u001b[39m \u001b[38;5;28;01mif\u001b[39;00m hook:\n\u001b[32m    122\u001b[39m     hook()\n\u001b[32m--> \u001b[39m\u001b[32m123\u001b[39m \u001b[38;5;28;01mreturn\u001b[39;00m \u001b[43mfunc\u001b[49m\u001b[43m(\u001b[49m\u001b[43m*\u001b[49m\u001b[43margs\u001b[49m\u001b[43m,\u001b[49m\u001b[43m \u001b[49m\u001b[43m*\u001b[49m\u001b[43m*\u001b[49m\u001b[43mkwargs\u001b[49m\u001b[43m)\u001b[49m\n",
      "\u001b[36mFile \u001b[39m\u001b[32m~/miniforge/envs/agent_test/lib/python3.13/site-packages/botocore/client.py:1061\u001b[39m, in \u001b[36mBaseClient._make_api_call\u001b[39m\u001b[34m(self, operation_name, api_params)\u001b[39m\n\u001b[32m   1057\u001b[39m     error_code = error_info.get(\u001b[33m\"\u001b[39m\u001b[33mQueryErrorCode\u001b[39m\u001b[33m\"\u001b[39m) \u001b[38;5;129;01mor\u001b[39;00m error_info.get(\n\u001b[32m   1058\u001b[39m         \u001b[33m\"\u001b[39m\u001b[33mCode\u001b[39m\u001b[33m\"\u001b[39m\n\u001b[32m   1059\u001b[39m     )\n\u001b[32m   1060\u001b[39m     error_class = \u001b[38;5;28mself\u001b[39m.exceptions.from_code(error_code)\n\u001b[32m-> \u001b[39m\u001b[32m1061\u001b[39m     \u001b[38;5;28;01mraise\u001b[39;00m error_class(parsed_response, operation_name)\n\u001b[32m   1062\u001b[39m \u001b[38;5;28;01melse\u001b[39;00m:\n\u001b[32m   1063\u001b[39m     \u001b[38;5;28;01mreturn\u001b[39;00m parsed_response\n",
      "\u001b[31mAccessDeniedException\u001b[39m: An error occurred (AccessDeniedException) when calling the Retrieve operation: User: arn:aws:iam::207212954385:user/kishoresai.ganes@tigeranalytics.com is not authorized to perform: kendra:Retrieve on resource: arn:aws:kendra:ap-south-1:207212954385:index/711df937-7bfb-4643-8e47-c433516d562d because no identity-based policy allows the kendra:Retrieve action"
     ]
    }
   ],
   "source": [
    "from langchain_community.retrievers.kendra import AmazonKendraRetriever\n",
    "from langchain.chains import RetrievalQA\n",
    "from langchain_openai import ChatOpenAI\n",
    "from langchain.prompts import PromptTemplate\n",
    "\n",
    "kendra_retriever = AmazonKendraRetriever(index_id=\"711df937-7bfb-4643-8e47-c433516d562d\",min_score_confidence=0.1,top_k=10)\n",
    "\n",
    "kendra_prompt = \"\"\"\n",
    "You are a medical data assistant helping retrieve structured answers from enterprise medical documents.\n",
    "input metrics:\n",
    "{question}\n",
    "{context}\n",
    "\n",
    "Given a **user query**, extract and return the following:\n",
    "\n",
    "1. **Expected Metrics Returned**: Identify all the relevant column name(s) of the metric.\n",
    "2. **Source Table**: Identify the relevant table name(s) that contains the above selected column(s).\n",
    "3. **Description**: Provide a brief plain-language explanation of what this query is asking.\n",
    "\n",
    "Format your response as JSON with the following keys:\n",
    "expected_metrics\n",
    "source_table\n",
    "description\n",
    "\"\"\"\n",
    "prompt = PromptTemplate(\n",
    "    template=kendra_prompt,\n",
    "    input_variables=[\"question\", \"context\"],\n",
    "    # partial_variables={\"role\": \"manager\"}\n",
    ")\n",
    "llm = ChatBedrock(\n",
    "    region_name=\"ap-south-1\",\n",
    "    model_id=\"anthropic.claude-3-sonnet-20240229-v1:0\",\n",
    "    client=client,\n",
    ")\n",
    "retrieval_chain = RetrievalQA.from_chain_type(\n",
    "    llm=llm,\n",
    "    retriever=kendra_retriever,\n",
    "    chain_type_kwargs={\"prompt\": prompt},\n",
    "    return_source_documents=True,\n",
    "    chain_type=\"stuff\",  # or \"map_reduce\" for larger contexts\n",
    ")\n",
    "\n",
    "response = retrieval_chain.invoke({\"query\": \"How long do patients usually wait before getting treated in the emergency room in a month?\"})\n",
    "print(response)"
   ]
  },
  {
   "cell_type": "code",
   "execution_count": null,
   "id": "f96f27f7",
   "metadata": {},
   "outputs": [
    {
     "name": "stdout",
     "output_type": "stream",
     "text": [
      "{\n",
      "  \"expected_metrics\": [\"avg_waiting_time_per_month\"],\n",
      "  \"source_table\": \"emergency_metrics\",\n",
      "  \"description\": \"This query is asking for the average amount of time patients have to wait before receiving treatment in the emergency room over the course of a month.\"\n",
      "}\n"
     ]
    }
   ],
   "source": [
    "print(response['result'])  # This will contain the JSON response with intent, metric, access_granted, denied_reason"
   ]
  },
  {
   "cell_type": "code",
   "execution_count": 117,
   "id": "e98c34ab",
   "metadata": {},
   "outputs": [
    {
     "name": "stdout",
     "output_type": "stream",
     "text": [
      "[Document(metadata={'type': 'DOCUMENT', 'result_id': '4a0c4946-c4e2-489d-a345-728ba0f919f1-ec5bcfff-82a3-409a-8274-99cda5560f03', 'document_id': 's3://tpl-insightrx/metadata/non_clinical_metadata.json', 'source': 'https://tpl-insightrx.s3.ap-south-1.amazonaws.com/metadata/non_clinical_metadata.json', 'title': 'non_clinical_metadata.json', 'excerpt': '...type\": \"Identifier\",\\n        \"table_name\": \"hospital_administration_metrics\",\\n        \"column_name\": \"hospital_id\",\\n        \"data_type\": \"object\",\\n        \"granularity\": \"Hospital\",\\n        \"calculation\": \"None\",\\n        \"description\": \"Unique identifier for the hospital or department...', 'document_attributes': {'_source_uri': 'https://tpl-insightrx.s3.ap-south-1.amazonaws.com/metadata/non_clinical_metadata.json', 's3_document_id': 'non_clinical_metadata.json'}, 'score': 'MEDIUM'}, page_content='Document Title: non_clinical_metadata.json\\nDocument Excerpt: \\ntype\": \"Identifier\", \"table_name\": \"hospital_administration_metrics\", \"column_name\": \"hospital_id\", \"data_type\": \"object\", \"granularity\": \"Hospital\", \"calculation\": \"None\", \"description\": \"Unique identifier for the hospital or department\\n')]\n"
     ]
    }
   ],
   "source": [
    "print(kendra_retriever.invoke(\"hospital\"))"
   ]
  },
  {
   "cell_type": "code",
   "execution_count": null,
   "id": "e26e565b",
   "metadata": {},
   "outputs": [
    {
     "ename": "NoCredentialsError",
     "evalue": "Unable to locate credentials",
     "output_type": "error",
     "traceback": [
      "\u001b[31m---------------------------------------------------------------------------\u001b[39m",
      "\u001b[31mNoCredentialsError\u001b[39m                        Traceback (most recent call last)",
      "\u001b[36mCell\u001b[39m\u001b[36m \u001b[39m\u001b[32mIn[10]\u001b[39m\u001b[32m, line 6\u001b[39m\n\u001b[32m      3\u001b[39m object_key = \u001b[33m'\u001b[39m\u001b[33mHealthCare_Gold_datasets/Context/full_role_based_metric_access.json\u001b[39m\u001b[33m'\u001b[39m\n\u001b[32m      5\u001b[39m \u001b[38;5;66;03m# Read the file into memory\u001b[39;00m\n\u001b[32m----> \u001b[39m\u001b[32m6\u001b[39m response = \u001b[43ms3\u001b[49m\u001b[43m.\u001b[49m\u001b[43mget_object\u001b[49m\u001b[43m(\u001b[49m\u001b[43mBucket\u001b[49m\u001b[43m=\u001b[49m\u001b[43mbucket_name\u001b[49m\u001b[43m,\u001b[49m\u001b[43m \u001b[49m\u001b[43mKey\u001b[49m\u001b[43m=\u001b[49m\u001b[43mobject_key\u001b[49m\u001b[43m)\u001b[49m\n\u001b[32m      7\u001b[39m file_content = response[\u001b[33m'\u001b[39m\u001b[33mBody\u001b[39m\u001b[33m'\u001b[39m].read()\n\u001b[32m      9\u001b[39m \u001b[38;5;66;03m# If it's a CSV and you want to load into pandas:\u001b[39;00m\n",
      "\u001b[36mFile \u001b[39m\u001b[32m~/miniconda3/envs/agent_env/lib/python3.13/site-packages/botocore/client.py:598\u001b[39m, in \u001b[36mClientCreator._create_api_method.<locals>._api_call\u001b[39m\u001b[34m(self, *args, **kwargs)\u001b[39m\n\u001b[32m    594\u001b[39m     \u001b[38;5;28;01mraise\u001b[39;00m \u001b[38;5;167;01mTypeError\u001b[39;00m(\n\u001b[32m    595\u001b[39m         \u001b[33mf\u001b[39m\u001b[33m\"\u001b[39m\u001b[38;5;132;01m{\u001b[39;00mpy_operation_name\u001b[38;5;132;01m}\u001b[39;00m\u001b[33m() only accepts keyword arguments.\u001b[39m\u001b[33m\"\u001b[39m\n\u001b[32m    596\u001b[39m     )\n\u001b[32m    597\u001b[39m \u001b[38;5;66;03m# The \"self\" in this scope is referring to the BaseClient.\u001b[39;00m\n\u001b[32m--> \u001b[39m\u001b[32m598\u001b[39m \u001b[38;5;28;01mreturn\u001b[39;00m \u001b[38;5;28;43mself\u001b[39;49m\u001b[43m.\u001b[49m\u001b[43m_make_api_call\u001b[49m\u001b[43m(\u001b[49m\u001b[43moperation_name\u001b[49m\u001b[43m,\u001b[49m\u001b[43m \u001b[49m\u001b[43mkwargs\u001b[49m\u001b[43m)\u001b[49m\n",
      "\u001b[36mFile \u001b[39m\u001b[32m~/miniconda3/envs/agent_env/lib/python3.13/site-packages/botocore/context.py:123\u001b[39m, in \u001b[36mwith_current_context.<locals>.decorator.<locals>.wrapper\u001b[39m\u001b[34m(*args, **kwargs)\u001b[39m\n\u001b[32m    121\u001b[39m \u001b[38;5;28;01mif\u001b[39;00m hook:\n\u001b[32m    122\u001b[39m     hook()\n\u001b[32m--> \u001b[39m\u001b[32m123\u001b[39m \u001b[38;5;28;01mreturn\u001b[39;00m \u001b[43mfunc\u001b[49m\u001b[43m(\u001b[49m\u001b[43m*\u001b[49m\u001b[43margs\u001b[49m\u001b[43m,\u001b[49m\u001b[43m \u001b[49m\u001b[43m*\u001b[49m\u001b[43m*\u001b[49m\u001b[43mkwargs\u001b[49m\u001b[43m)\u001b[49m\n",
      "\u001b[36mFile \u001b[39m\u001b[32m~/miniconda3/envs/agent_env/lib/python3.13/site-packages/botocore/client.py:1043\u001b[39m, in \u001b[36mBaseClient._make_api_call\u001b[39m\u001b[34m(self, operation_name, api_params)\u001b[39m\n\u001b[32m   1039\u001b[39m     maybe_compress_request(\n\u001b[32m   1040\u001b[39m         \u001b[38;5;28mself\u001b[39m.meta.config, request_dict, operation_model\n\u001b[32m   1041\u001b[39m     )\n\u001b[32m   1042\u001b[39m     apply_request_checksum(request_dict)\n\u001b[32m-> \u001b[39m\u001b[32m1043\u001b[39m     http, parsed_response = \u001b[38;5;28;43mself\u001b[39;49m\u001b[43m.\u001b[49m\u001b[43m_make_request\u001b[49m\u001b[43m(\u001b[49m\n\u001b[32m   1044\u001b[39m \u001b[43m        \u001b[49m\u001b[43moperation_model\u001b[49m\u001b[43m,\u001b[49m\u001b[43m \u001b[49m\u001b[43mrequest_dict\u001b[49m\u001b[43m,\u001b[49m\u001b[43m \u001b[49m\u001b[43mrequest_context\u001b[49m\n\u001b[32m   1045\u001b[39m \u001b[43m    \u001b[49m\u001b[43m)\u001b[49m\n\u001b[32m   1047\u001b[39m \u001b[38;5;28mself\u001b[39m.meta.events.emit(\n\u001b[32m   1048\u001b[39m     \u001b[33mf\u001b[39m\u001b[33m'\u001b[39m\u001b[33mafter-call.\u001b[39m\u001b[38;5;132;01m{\u001b[39;00mservice_id\u001b[38;5;132;01m}\u001b[39;00m\u001b[33m.\u001b[39m\u001b[38;5;132;01m{\u001b[39;00moperation_name\u001b[38;5;132;01m}\u001b[39;00m\u001b[33m'\u001b[39m,\n\u001b[32m   1049\u001b[39m     http_response=http,\n\u001b[32m   (...)\u001b[39m\u001b[32m   1052\u001b[39m     context=request_context,\n\u001b[32m   1053\u001b[39m )\n\u001b[32m   1055\u001b[39m \u001b[38;5;28;01mif\u001b[39;00m http.status_code >= \u001b[32m300\u001b[39m:\n",
      "\u001b[36mFile \u001b[39m\u001b[32m~/miniconda3/envs/agent_env/lib/python3.13/site-packages/botocore/client.py:1067\u001b[39m, in \u001b[36mBaseClient._make_request\u001b[39m\u001b[34m(self, operation_model, request_dict, request_context)\u001b[39m\n\u001b[32m   1065\u001b[39m \u001b[38;5;28;01mdef\u001b[39;00m\u001b[38;5;250m \u001b[39m\u001b[34m_make_request\u001b[39m(\u001b[38;5;28mself\u001b[39m, operation_model, request_dict, request_context):\n\u001b[32m   1066\u001b[39m     \u001b[38;5;28;01mtry\u001b[39;00m:\n\u001b[32m-> \u001b[39m\u001b[32m1067\u001b[39m         \u001b[38;5;28;01mreturn\u001b[39;00m \u001b[38;5;28;43mself\u001b[39;49m\u001b[43m.\u001b[49m\u001b[43m_endpoint\u001b[49m\u001b[43m.\u001b[49m\u001b[43mmake_request\u001b[49m\u001b[43m(\u001b[49m\u001b[43moperation_model\u001b[49m\u001b[43m,\u001b[49m\u001b[43m \u001b[49m\u001b[43mrequest_dict\u001b[49m\u001b[43m)\u001b[49m\n\u001b[32m   1068\u001b[39m     \u001b[38;5;28;01mexcept\u001b[39;00m \u001b[38;5;167;01mException\u001b[39;00m \u001b[38;5;28;01mas\u001b[39;00m e:\n\u001b[32m   1069\u001b[39m         \u001b[38;5;28mself\u001b[39m.meta.events.emit(\n\u001b[32m   1070\u001b[39m             \u001b[33mf\u001b[39m\u001b[33m'\u001b[39m\u001b[33mafter-call-error.\u001b[39m\u001b[38;5;132;01m{\u001b[39;00m\u001b[38;5;28mself\u001b[39m._service_model.service_id.hyphenize()\u001b[38;5;132;01m}\u001b[39;00m\u001b[33m.\u001b[39m\u001b[38;5;132;01m{\u001b[39;00moperation_model.name\u001b[38;5;132;01m}\u001b[39;00m\u001b[33m'\u001b[39m,\n\u001b[32m   1071\u001b[39m             exception=e,\n\u001b[32m   1072\u001b[39m             context=request_context,\n\u001b[32m   1073\u001b[39m         )\n",
      "\u001b[36mFile \u001b[39m\u001b[32m~/miniconda3/envs/agent_env/lib/python3.13/site-packages/botocore/endpoint.py:119\u001b[39m, in \u001b[36mEndpoint.make_request\u001b[39m\u001b[34m(self, operation_model, request_dict)\u001b[39m\n\u001b[32m    113\u001b[39m \u001b[38;5;28;01mdef\u001b[39;00m\u001b[38;5;250m \u001b[39m\u001b[34mmake_request\u001b[39m(\u001b[38;5;28mself\u001b[39m, operation_model, request_dict):\n\u001b[32m    114\u001b[39m     logger.debug(\n\u001b[32m    115\u001b[39m         \u001b[33m\"\u001b[39m\u001b[33mMaking request for \u001b[39m\u001b[38;5;132;01m%s\u001b[39;00m\u001b[33m with params: \u001b[39m\u001b[38;5;132;01m%s\u001b[39;00m\u001b[33m\"\u001b[39m,\n\u001b[32m    116\u001b[39m         operation_model,\n\u001b[32m    117\u001b[39m         request_dict,\n\u001b[32m    118\u001b[39m     )\n\u001b[32m--> \u001b[39m\u001b[32m119\u001b[39m     \u001b[38;5;28;01mreturn\u001b[39;00m \u001b[38;5;28;43mself\u001b[39;49m\u001b[43m.\u001b[49m\u001b[43m_send_request\u001b[49m\u001b[43m(\u001b[49m\u001b[43mrequest_dict\u001b[49m\u001b[43m,\u001b[49m\u001b[43m \u001b[49m\u001b[43moperation_model\u001b[49m\u001b[43m)\u001b[49m\n",
      "\u001b[36mFile \u001b[39m\u001b[32m~/miniconda3/envs/agent_env/lib/python3.13/site-packages/botocore/endpoint.py:196\u001b[39m, in \u001b[36mEndpoint._send_request\u001b[39m\u001b[34m(self, request_dict, operation_model)\u001b[39m\n\u001b[32m    194\u001b[39m context = request_dict[\u001b[33m'\u001b[39m\u001b[33mcontext\u001b[39m\u001b[33m'\u001b[39m]\n\u001b[32m    195\u001b[39m \u001b[38;5;28mself\u001b[39m._update_retries_context(context, attempts)\n\u001b[32m--> \u001b[39m\u001b[32m196\u001b[39m request = \u001b[38;5;28;43mself\u001b[39;49m\u001b[43m.\u001b[49m\u001b[43mcreate_request\u001b[49m\u001b[43m(\u001b[49m\u001b[43mrequest_dict\u001b[49m\u001b[43m,\u001b[49m\u001b[43m \u001b[49m\u001b[43moperation_model\u001b[49m\u001b[43m)\u001b[49m\n\u001b[32m    197\u001b[39m success_response, exception = \u001b[38;5;28mself\u001b[39m._get_response(\n\u001b[32m    198\u001b[39m     request, operation_model, context\n\u001b[32m    199\u001b[39m )\n\u001b[32m    200\u001b[39m \u001b[38;5;28;01mwhile\u001b[39;00m \u001b[38;5;28mself\u001b[39m._needs_retry(\n\u001b[32m    201\u001b[39m     attempts,\n\u001b[32m    202\u001b[39m     operation_model,\n\u001b[32m   (...)\u001b[39m\u001b[32m    205\u001b[39m     exception,\n\u001b[32m    206\u001b[39m ):\n",
      "\u001b[36mFile \u001b[39m\u001b[32m~/miniconda3/envs/agent_env/lib/python3.13/site-packages/botocore/endpoint.py:132\u001b[39m, in \u001b[36mEndpoint.create_request\u001b[39m\u001b[34m(self, params, operation_model)\u001b[39m\n\u001b[32m    130\u001b[39m     service_id = operation_model.service_model.service_id.hyphenize()\n\u001b[32m    131\u001b[39m     event_name = \u001b[33mf\u001b[39m\u001b[33m'\u001b[39m\u001b[33mrequest-created.\u001b[39m\u001b[38;5;132;01m{\u001b[39;00mservice_id\u001b[38;5;132;01m}\u001b[39;00m\u001b[33m.\u001b[39m\u001b[38;5;132;01m{\u001b[39;00moperation_model.name\u001b[38;5;132;01m}\u001b[39;00m\u001b[33m'\u001b[39m\n\u001b[32m--> \u001b[39m\u001b[32m132\u001b[39m     \u001b[38;5;28;43mself\u001b[39;49m\u001b[43m.\u001b[49m\u001b[43m_event_emitter\u001b[49m\u001b[43m.\u001b[49m\u001b[43memit\u001b[49m\u001b[43m(\u001b[49m\n\u001b[32m    133\u001b[39m \u001b[43m        \u001b[49m\u001b[43mevent_name\u001b[49m\u001b[43m,\u001b[49m\n\u001b[32m    134\u001b[39m \u001b[43m        \u001b[49m\u001b[43mrequest\u001b[49m\u001b[43m=\u001b[49m\u001b[43mrequest\u001b[49m\u001b[43m,\u001b[49m\n\u001b[32m    135\u001b[39m \u001b[43m        \u001b[49m\u001b[43moperation_name\u001b[49m\u001b[43m=\u001b[49m\u001b[43moperation_model\u001b[49m\u001b[43m.\u001b[49m\u001b[43mname\u001b[49m\u001b[43m,\u001b[49m\n\u001b[32m    136\u001b[39m \u001b[43m    \u001b[49m\u001b[43m)\u001b[49m\n\u001b[32m    137\u001b[39m prepared_request = \u001b[38;5;28mself\u001b[39m.prepare_request(request)\n\u001b[32m    138\u001b[39m \u001b[38;5;28;01mreturn\u001b[39;00m prepared_request\n",
      "\u001b[36mFile \u001b[39m\u001b[32m~/miniconda3/envs/agent_env/lib/python3.13/site-packages/botocore/hooks.py:412\u001b[39m, in \u001b[36mEventAliaser.emit\u001b[39m\u001b[34m(self, event_name, **kwargs)\u001b[39m\n\u001b[32m    410\u001b[39m \u001b[38;5;28;01mdef\u001b[39;00m\u001b[38;5;250m \u001b[39m\u001b[34memit\u001b[39m(\u001b[38;5;28mself\u001b[39m, event_name, **kwargs):\n\u001b[32m    411\u001b[39m     aliased_event_name = \u001b[38;5;28mself\u001b[39m._alias_event_name(event_name)\n\u001b[32m--> \u001b[39m\u001b[32m412\u001b[39m     \u001b[38;5;28;01mreturn\u001b[39;00m \u001b[38;5;28;43mself\u001b[39;49m\u001b[43m.\u001b[49m\u001b[43m_emitter\u001b[49m\u001b[43m.\u001b[49m\u001b[43memit\u001b[49m\u001b[43m(\u001b[49m\u001b[43maliased_event_name\u001b[49m\u001b[43m,\u001b[49m\u001b[43m \u001b[49m\u001b[43m*\u001b[49m\u001b[43m*\u001b[49m\u001b[43mkwargs\u001b[49m\u001b[43m)\u001b[49m\n",
      "\u001b[36mFile \u001b[39m\u001b[32m~/miniconda3/envs/agent_env/lib/python3.13/site-packages/botocore/hooks.py:256\u001b[39m, in \u001b[36mHierarchicalEmitter.emit\u001b[39m\u001b[34m(self, event_name, **kwargs)\u001b[39m\n\u001b[32m    245\u001b[39m \u001b[38;5;28;01mdef\u001b[39;00m\u001b[38;5;250m \u001b[39m\u001b[34memit\u001b[39m(\u001b[38;5;28mself\u001b[39m, event_name, **kwargs):\n\u001b[32m    246\u001b[39m \u001b[38;5;250m    \u001b[39m\u001b[33;03m\"\"\"\u001b[39;00m\n\u001b[32m    247\u001b[39m \u001b[33;03m    Emit an event by name with arguments passed as keyword args.\u001b[39;00m\n\u001b[32m    248\u001b[39m \n\u001b[32m   (...)\u001b[39m\u001b[32m    254\u001b[39m \u001b[33;03m             handlers.\u001b[39;00m\n\u001b[32m    255\u001b[39m \u001b[33;03m    \"\"\"\u001b[39;00m\n\u001b[32m--> \u001b[39m\u001b[32m256\u001b[39m     \u001b[38;5;28;01mreturn\u001b[39;00m \u001b[38;5;28;43mself\u001b[39;49m\u001b[43m.\u001b[49m\u001b[43m_emit\u001b[49m\u001b[43m(\u001b[49m\u001b[43mevent_name\u001b[49m\u001b[43m,\u001b[49m\u001b[43m \u001b[49m\u001b[43mkwargs\u001b[49m\u001b[43m)\u001b[49m\n",
      "\u001b[36mFile \u001b[39m\u001b[32m~/miniconda3/envs/agent_env/lib/python3.13/site-packages/botocore/hooks.py:239\u001b[39m, in \u001b[36mHierarchicalEmitter._emit\u001b[39m\u001b[34m(self, event_name, kwargs, stop_on_response)\u001b[39m\n\u001b[32m    237\u001b[39m \u001b[38;5;28;01mfor\u001b[39;00m handler \u001b[38;5;129;01min\u001b[39;00m handlers_to_call:\n\u001b[32m    238\u001b[39m     logger.debug(\u001b[33m'\u001b[39m\u001b[33mEvent \u001b[39m\u001b[38;5;132;01m%s\u001b[39;00m\u001b[33m: calling handler \u001b[39m\u001b[38;5;132;01m%s\u001b[39;00m\u001b[33m'\u001b[39m, event_name, handler)\n\u001b[32m--> \u001b[39m\u001b[32m239\u001b[39m     response = \u001b[43mhandler\u001b[49m\u001b[43m(\u001b[49m\u001b[43m*\u001b[49m\u001b[43m*\u001b[49m\u001b[43mkwargs\u001b[49m\u001b[43m)\u001b[49m\n\u001b[32m    240\u001b[39m     responses.append((handler, response))\n\u001b[32m    241\u001b[39m     \u001b[38;5;28;01mif\u001b[39;00m stop_on_response \u001b[38;5;129;01mand\u001b[39;00m response \u001b[38;5;129;01mis\u001b[39;00m \u001b[38;5;129;01mnot\u001b[39;00m \u001b[38;5;28;01mNone\u001b[39;00m:\n",
      "\u001b[36mFile \u001b[39m\u001b[32m~/miniconda3/envs/agent_env/lib/python3.13/site-packages/botocore/signers.py:106\u001b[39m, in \u001b[36mRequestSigner.handler\u001b[39m\u001b[34m(self, operation_name, request, **kwargs)\u001b[39m\n\u001b[32m    101\u001b[39m \u001b[38;5;28;01mdef\u001b[39;00m\u001b[38;5;250m \u001b[39m\u001b[34mhandler\u001b[39m(\u001b[38;5;28mself\u001b[39m, operation_name=\u001b[38;5;28;01mNone\u001b[39;00m, request=\u001b[38;5;28;01mNone\u001b[39;00m, **kwargs):\n\u001b[32m    102\u001b[39m     \u001b[38;5;66;03m# This is typically hooked up to the \"request-created\" event\u001b[39;00m\n\u001b[32m    103\u001b[39m     \u001b[38;5;66;03m# from a client's event emitter.  When a new request is created\u001b[39;00m\n\u001b[32m    104\u001b[39m     \u001b[38;5;66;03m# this method is invoked to sign the request.\u001b[39;00m\n\u001b[32m    105\u001b[39m     \u001b[38;5;66;03m# Don't call this method directly.\u001b[39;00m\n\u001b[32m--> \u001b[39m\u001b[32m106\u001b[39m     \u001b[38;5;28;01mreturn\u001b[39;00m \u001b[38;5;28;43mself\u001b[39;49m\u001b[43m.\u001b[49m\u001b[43msign\u001b[49m\u001b[43m(\u001b[49m\u001b[43moperation_name\u001b[49m\u001b[43m,\u001b[49m\u001b[43m \u001b[49m\u001b[43mrequest\u001b[49m\u001b[43m)\u001b[49m\n",
      "\u001b[36mFile \u001b[39m\u001b[32m~/miniconda3/envs/agent_env/lib/python3.13/site-packages/botocore/signers.py:198\u001b[39m, in \u001b[36mRequestSigner.sign\u001b[39m\u001b[34m(self, operation_name, request, region_name, signing_type, expires_in, signing_name)\u001b[39m\n\u001b[32m    195\u001b[39m     \u001b[38;5;28;01melse\u001b[39;00m:\n\u001b[32m    196\u001b[39m         \u001b[38;5;28;01mraise\u001b[39;00m e\n\u001b[32m--> \u001b[39m\u001b[32m198\u001b[39m \u001b[43mauth\u001b[49m\u001b[43m.\u001b[49m\u001b[43madd_auth\u001b[49m\u001b[43m(\u001b[49m\u001b[43mrequest\u001b[49m\u001b[43m)\u001b[49m\n",
      "\u001b[36mFile \u001b[39m\u001b[32m~/miniconda3/envs/agent_env/lib/python3.13/site-packages/botocore/auth.py:424\u001b[39m, in \u001b[36mSigV4Auth.add_auth\u001b[39m\u001b[34m(self, request)\u001b[39m\n\u001b[32m    422\u001b[39m \u001b[38;5;28;01mdef\u001b[39;00m\u001b[38;5;250m \u001b[39m\u001b[34madd_auth\u001b[39m(\u001b[38;5;28mself\u001b[39m, request):\n\u001b[32m    423\u001b[39m     \u001b[38;5;28;01mif\u001b[39;00m \u001b[38;5;28mself\u001b[39m.credentials \u001b[38;5;129;01mis\u001b[39;00m \u001b[38;5;28;01mNone\u001b[39;00m:\n\u001b[32m--> \u001b[39m\u001b[32m424\u001b[39m         \u001b[38;5;28;01mraise\u001b[39;00m NoCredentialsError()\n\u001b[32m    425\u001b[39m     datetime_now = datetime.datetime.utcnow()\n\u001b[32m    426\u001b[39m     request.context[\u001b[33m'\u001b[39m\u001b[33mtimestamp\u001b[39m\u001b[33m'\u001b[39m] = datetime_now.strftime(SIGV4_TIMESTAMP)\n",
      "\u001b[31mNoCredentialsError\u001b[39m: Unable to locate credentials"
     ]
    }
   ],
   "source": [
    "\n",
    "\n",
    "# Bucket and object key\n",
    "bucket_name = 'tpl-insightrx'\n",
    "object_key = 'HealthCare_Gold_datasets/Context/full_role_based_metric_access.json'\n",
    "\n",
    "# Read the file into memory\n",
    "response = s3.get_object(Bucket=bucket_name, Key=object_key)\n",
    "file_content = response['Body'].read()\n",
    "\n",
    "# If it's a CSV and you want to load into pandas:\n",
    "df = pd.read_csv(BytesIO(file_content))\n",
    "print(df.head())"
   ]
  },
  {
   "cell_type": "code",
   "execution_count": 6,
   "id": "6ea126d0",
   "metadata": {},
   "outputs": [],
   "source": [
    "!export LANCE_URI=\"sk_T75W5VQSY5GGBFBS4IBU4FIYAIZLSTIV5Q2JLCPRZLOUKZC7XNRA====\""
   ]
  },
  {
   "cell_type": "code",
   "execution_count": 8,
   "id": "ab008c61",
   "metadata": {},
   "outputs": [],
   "source": [
    "import json\n",
    "import os\n",
    "\n",
    "import pandas as pd\n",
    "from langchain_community.vectorstores.lancedb import LanceDB\n",
    "from langchain_openai.embeddings.azure import AzureOpenAIEmbeddings\n",
    "\n",
    "\n",
    "LANCE_URI = os.environ.get(\"LANCE_URI\", \"sk_T75W5VQSY5GGBFBS4IBU4FIYAIZLSTIV5Q2JLCPRZLOUKZC7XNRA====\")\n"
   ]
  },
  {
   "cell_type": "code",
   "execution_count": null,
   "id": "7e237d9e",
   "metadata": {},
   "outputs": [],
   "source": [
    "\n",
    "\n",
    "\n",
    "def generate_column_docs(meta_df):\n",
    "    docs = []\n",
    "    doc_metadata = []\n",
    "    for _, row in meta_df.iterrows():\n",
    "        data = {\n",
    "            \"table\": row[\"table\"],\n",
    "            \"column\": row[\"column\"],\n",
    "            \"datatype\": row[\"column_datatype\"],\n",
    "            \"description\": row[\"column_description\"],\n",
    "        }\n",
    "        doc = list(data.values())\n",
    "\n",
    "        if row[\"primary_key\"]:\n",
    "            data[\"primary_key\"] = row[\"primary_key\"]\n",
    "            doc.append(\"PRIMARY KEY\")\n",
    "        if not pd.isnull(row[\"foreign_key_ref\"]):\n",
    "            data[\"foreign_key_ref\"] = row[\"foreign_key_ref\"]\n",
    "            doc.append(f\"FOREIGN KEY REFERENCES {row['foreign_key_ref']}\")\n",
    "\n",
    "        doc_metadata.append(data)\n",
    "        docs.append(\" \".join(doc))\n",
    "\n",
    "    return docs, doc_metadata\n",
    "\n",
    "\n",
    "def generate_table_docs(meta_df):\n",
    "    docs = []\n",
    "    doc_metadata = []\n",
    "    for _, row in meta_df.iterrows():\n",
    "        data = {\n",
    "            \"table\": row[\"table\"],\n",
    "            \"description\": row[\"table_description\"],\n",
    "        }\n",
    "        doc = list(data.values())\n",
    "        docs.append(\" \".join(doc))\n",
    "    return docs, doc_metadata\n",
    "\n",
    "def populate_vector_store(metadata, lance_uri,TABLE_NAME):\n",
    "    embeddings = AzureOpenAIEmbeddings(\n",
    "        azure_endpoint=os.environ[\"EMBEDDING_AZURE_ENDPOINT\"],\n",
    "        azure_deployment=os.environ[\"EMBEDDING_AZURE_DEPLOYMENT\"],\n",
    "        api_version=os.environ[\"EMBEDDING_AZURE_API_VERSION\"],\n",
    "        openai_api_type=\"azure\",\n",
    "        model=os.environ[\"EMBEDDING_AZURE_MODEL\"],\n",
    "        api_key=os.environ[\"EMBEDDING_AZURE_API_KEY\"],\n",
    "    )\n",
    "\n",
    "    schema_docs, doc_metadata = generate_column_docs(metadata)\n",
    "    vector_store = LanceDB(uri=lance_uri, embedding=embeddings, table_name=TABLE_NAME)\n",
    "\n",
    "    _ = vector_store.add_texts(texts=schema_docs, metadatas=doc_metadata)\n",
    "\n",
    "    return vector_store\n",
    "\n",
    "def populate_table_vector_store(metadata, lance_uri,TABLE_NAME):\n",
    "    embeddings = AzureOpenAIEmbeddings(\n",
    "        azure_endpoint=os.environ[\"EMBEDDING_AZURE_ENDPOINT\"],\n",
    "        azure_deployment=os.environ[\"EMBEDDING_AZURE_DEPLOYMENT\"],\n",
    "        api_version=os.environ[\"EMBEDDING_AZURE_API_VERSION\"],\n",
    "        openai_api_type=\"azure\",\n",
    "        model=os.environ[\"EMBEDDING_AZURE_MODEL\"],\n",
    "        api_key=os.environ[\"EMBEDDING_AZURE_API_KEY\"],\n",
    "    )\n",
    "\n",
    "    schema_docs, doc_metadata = generate_table_docs(metadata)\n",
    "    vector_store = LanceDB(uri=lance_uri, embedding=embeddings, table_name=TABLE_NAME)\n",
    "\n",
    "    _ = vector_store.add_texts(texts=schema_docs, metadatas=doc_metadata)\n",
    "\n",
    "    return vector_store"
   ]
  }
 ],
 "metadata": {
  "kernelspec": {
   "display_name": "agent_test",
   "language": "python",
   "name": "python3"
  },
  "language_info": {
   "codemirror_mode": {
    "name": "ipython",
    "version": 3
   },
   "file_extension": ".py",
   "mimetype": "text/x-python",
   "name": "python",
   "nbconvert_exporter": "python",
   "pygments_lexer": "ipython3",
   "version": "3.13.5"
  }
 },
 "nbformat": 4,
 "nbformat_minor": 5
}
